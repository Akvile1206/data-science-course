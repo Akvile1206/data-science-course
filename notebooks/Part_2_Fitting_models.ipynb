{
  "nbformat": 4,
  "nbformat_minor": 0,
  "metadata": {
    "colab": {
      "name": "Part 2: Fitting models.ipynb",
      "provenance": [],
      "collapsed_sections": [],
      "authorship_tag": "ABX9TyNwUILW8MXFm0AngM/CjuNj"
    },
    "kernelspec": {
      "name": "python3",
      "display_name": "Python 3"
    }
  },
  "cells": [
    {
      "cell_type": "markdown",
      "metadata": {
        "id": "SLedDE0mJCbU",
        "colab_type": "text"
      },
      "source": [
        "# Part 1: Fitting models\n",
        "\n",
        "Math secretly has developed a lot of useful methods and ideas to work with numbers. The key is to become literate enough in both Math and Computer Science to apply it to real world data. This notebook will help you develop this literacy by learning how mathematical models can be *fitted* to data and how simple inferences can be made. We will do this with the help of unsupervised and supervised machine learning - to add a few hot keywords to get you hooked! "
      ]
    },
    {
      "cell_type": "markdown",
      "metadata": {
        "id": "5Kshcz4tNH5c",
        "colab_type": "text"
      },
      "source": [
        "## Generative models\n",
        "\n",
        "Sometimes in the world you are presented with lots of one type of data. For instance, how many letters arrive in your email per day, how much time elapses between subsequent busses in a bus stop. According to this data you might have to make some decisions like how much time to dedicate each day to reading your inbox and how much more you need to wait in a bus stop. If you are running a bussiness, analogous decisions become more important and thus should be informed by data.\n",
        " \n",
        "Lets start with a simple example. This is a data set of how many emails I got per day for 10 different days. (How many of them were important is another question...)"
      ]
    },
    {
      "cell_type": "code",
      "metadata": {
        "id": "41k7-EK-T797",
        "colab_type": "code",
        "colab": {}
      },
      "source": [
        "# import useful packages \n",
        "import numpy as np\n",
        "import math\n",
        "import matplotlib.pyplot as plt\n",
        "\n",
        "# initialise data set\n",
        "xs = [5, 6, 10, 2, 7, 3, 1, 1, 2, 1]"
      ],
      "execution_count": null,
      "outputs": []
    },
    {
      "cell_type": "markdown",
      "metadata": {
        "id": "z0ZP7Nc9Tml6",
        "colab_type": "text"
      },
      "source": [
        "This data is quite simple. It does not have any response variable - for instance how many minutes I spent looking through my emails that day. Analysis you do on this type of data is called *unupervised machine learning*. Using this data we can find patterns. In particular, with this dataset we will explore the question of how many emails I can expect to get in the future. \n",
        "\n",
        "A particular kind of interesting patterns data scientist often look for are clusters. Often the data you are looking at contains measurements from multiple groups mixed together. The more data there is the harder it is for human scientist to find the boundaries between groups. Generative modelling can deal with it and furthermore tell us how \"confident\" we should be about the generated boundaries. \n",
        "\n"
      ]
    },
    {
      "cell_type": "markdown",
      "metadata": {
        "id": "2iwxKf-zaMN-",
        "colab_type": "text"
      },
      "source": [
        "### First step\n",
        "\n",
        "In the meantime, lets get back to the simple email example. \n",
        "\n",
        "We will call our random variable $X$ and it represents how many letters I got in a day.\n",
        "\n",
        "The model we can try to fit to this data is Poisson distribution. You can read more about it [here](https://en.wikipedia.org/wiki/Poisson_distribution). The most important thing is its probability mass function which can be expressed as:\n",
        "\n",
        "$$ Pr_X(x) = \\frac{\\lambda ^x e^{-\\lambda}}{x!}$$\n",
        "\n",
        "$\\lambda$ is the unknow parameter that we want to estimate to know how likely are future values of $X$. If you actually opened the link, you might notice that $\\lambda$ has to be greater than zero. This is an important constraint that we will return to later! \n",
        "\n",
        "I will write the probability mass function to make explicit the fact that $x$ depends on  $\\lambda$:\n",
        "\n",
        "$$ Pr_X(x|\\lambda) = \\frac{\\lambda ^x e^{-\\lambda}}{x!}$$\n",
        "\n",
        "You should read that as the probability of a particular value of $x$ given $\\lambda$. \"|\" symbol does not denote conditional probability but it is a common notation to express dependency.\n",
        "\n",
        "We will view the entire data set `xs` as independent samples generated from this distribution.\n",
        "\n",
        "To summarise this step, we need to pick a model (in our case, a distribution) with some tunable parameters that we will fit to the data. Also, we need to check and keep in mind the constraints.\n",
        "\n",
        "#### Aside: Why the constaints are important?\n",
        "\n",
        "The probability mass function expression might still have values when parameters like $\\lambda$ do not obey the constraints. When it comes time to report the results of your analysis, you will have to explain why the model you choose makes sense. For instance, Poisson model has an interpretation that it closely models the number of independant events over an interval. So, we will have no problem defending this choice for emails. However, if we get a value of $\\lambda$ that does not obey Poisson constraints, we cannot with clean conscience use mathematical results to support our model choice. Without the constraints, we are dealing with a totally different class of functions!\n"
      ]
    },
    {
      "cell_type": "markdown",
      "metadata": {
        "id": "b0HYsPyGbKm2",
        "colab_type": "text"
      },
      "source": [
        "### Second step \n",
        "\n",
        "Now we need a function to calculare the likelihood of particular value of $\\lambda$ given our data set. This is the same as plugin in $\\lambda$  into our model and seeing how probable our dataset becomes.\n",
        "\n",
        "$$lik(\\lambda | x_1, ..., x_{10}) = Pr(x_1, ..., x_{10} | \\lambda)$$\n",
        "\n",
        "By the assumption that samples are independent, we can conclude:\n",
        "\n",
        "$$Pr(x_1, ..., x_{10} | \\lambda) = Pr_X(x_1 | \\lambda) \\times ... \\times Pr_X(x_{10} | \\lambda)$$\n",
        "\n",
        "At this point your inner alarm bells should be ringing - probabilities tend to be quite small numbers and we are multiplying a bunch of them together. So to be safe, lets bring our trusted tool - the logarithm $\\dagger$:\n",
        "\n",
        "$$log(lik(\\lambda | x_1, ..., x_{10})) = log(Pr_X(x_1 | \\lambda) \\times ... \\times Pr_X(x_{10} | \\lambda)) = log(Pr_X(x_1 | \\lambda)) + ... + log(Pr_X(x_{10} | \\lambda))$$ \n",
        "\n",
        "Our ultimate goal is to find the value for $\\lambda$ that maximises the data sets likelihood. So using logarithm is OK as it is *monotonic* (i.e. we will still be able to distinguish higher likelihood value from the smaller one).\n",
        "\n",
        "Using the rules of logarithm we can simplify the probability mass function $Pr_X(x|\\lambda)$:\n",
        "\n",
        "$$log(Pr_X(x|\\lambda)) = log(\\frac{\\lambda ^x e^{-\\lambda}}{x!}) = x \\times log(\\lambda) - \\lambda - log(x!)$$\n",
        "\n",
        "Thus, in this step we use independence assumption to find an expression for the log likelihood of our unknown parameters.\n",
        "\n",
        "We can now write down likelihood function programatically."
      ]
    },
    {
      "cell_type": "code",
      "metadata": {
        "id": "OfNFAURhgsuj",
        "colab_type": "code",
        "colab": {}
      },
      "source": [
        "def fact(x):\n",
        "  \"\"\"\n",
        "  Calculates the factorial of the given number.\n",
        "  :param x: (interger greater than 0) \n",
        "  :return: (positive integer)\n",
        "  \"\"\"\n",
        "  if x == 1:\n",
        "    return x\n",
        "  return x * fact(x-1)\n",
        "\n",
        "def logPr_X(x, l): \n",
        "  \"\"\"\n",
        "  Calculates log probability of observing given sample under given lambda.\n",
        "  :param l: (positive real) - lambda parameter\n",
        "  :param x: (positive integer) - a sample form the distribution\n",
        "  :return: (real)\n",
        "  \"\"\"\n",
        "  return x * math.log(l) - l - math.log(fact(x))\n",
        "\n",
        "def loglik(l):\n",
        "  \"\"\"\n",
        "    Calculates log likelihood of the entire dataset under given lambda.\n",
        "    :param l: (positive real) lambda parameter\n",
        "    :global xs: (list of integer samples) our data set\n",
        "    :return: (real)\n",
        "  \"\"\"\n",
        "  global xs # this line is not necessary but makes it obvious that xs is \n",
        "            # defined outside the function\n",
        "  prx = [logPr_X(x,l) for x in xs]\n",
        "  return sum(prx) # return the sum of all log(Pr_X)'s"
      ],
      "execution_count": null,
      "outputs": []
    },
    {
      "cell_type": "markdown",
      "metadata": {
        "id": "C9CmMjGLc1uk",
        "colab_type": "text"
      },
      "source": [
        "### Third step\n",
        "\n",
        "We can now find the $\\lambda$ that maximises the log likelihood expression. We can use calculus for that - find derivative and so on. But we can also use Computer Science. In particular we can use a function `scipy.optimize.fmin`. It takes a function with $n$ arguments and an initial guess (a list of size $n$) and returns the values for those arguments that minimise the function (also a list of size $n$). \n",
        "You might be confused - why would we want to minimise the function. Sadly, there is no `fmax` function, so we will maximise our log-likelihood function by taking its negative value. \n",
        "\n",
        "This is also the point where we bring our constraints associated with the model. `fmin` minimises the parameters over real numbers. But we need that $\\lambda$ be in $(0; \\infty)$. How good would it be to have a function that converts between real numbers and positive numbers which preserves ordering...\n",
        "\n",
        "I am sure that at this point you are screaming at the screen '*Exponential!*'.\n",
        "\n",
        "To use it, firstly we need to introduce temporary parameter $t$ that we will actually be using `fmin` with. Then we express $\\lambda$ in terms of it:\n",
        "\n",
        "$$\\lambda = e^t$$\n",
        "\n",
        "We will use when defining a helper function and then to recover the final result.\n",
        "\n",
        "Word of caution: `fmin` is not a panacea, it can get stuck in local minima so give it a good initial guess if you can. \n",
        "\n",
        "Summary of this step: use numerical optimisation techniques to find values for parameters that maximise the likelihood. Remember to apply constraints."
      ]
    },
    {
      "cell_type": "code",
      "metadata": {
        "id": "xhDYuj7hjwLv",
        "colab_type": "code",
        "colab": {
          "base_uri": "https://localhost:8080/",
          "height": 102
        },
        "outputId": "1e1048fb-5af8-4a16-e31e-aa2266744f5e"
      },
      "source": [
        "import scipy.optimize\n",
        "\n",
        "def f(t):\n",
        "  \"\"\"\n",
        "  Funtion to be optimised.\n",
        "  :param t: (real) - temporary parameter\n",
        "  :return: (real)\n",
        "  \"\"\"\n",
        "  l = math.exp(t)\n",
        "  return -loglik(l)\n",
        "\n",
        "initial_guess = 2\n",
        "\n",
        "t = scipy.optimize.fmin(f, initial_guess)\n",
        "\n",
        "# Recover lambda\n",
        "λ = math.exp(t)\n",
        "print(λ)"
      ],
      "execution_count": null,
      "outputs": [
        {
          "output_type": "stream",
          "text": [
            "Optimization terminated successfully.\n",
            "         Current function value: 25.444330\n",
            "         Iterations: 15\n",
            "         Function evaluations: 30\n",
            "3.7998475119767394\n"
          ],
          "name": "stdout"
        }
      ]
    },
    {
      "cell_type": "markdown",
      "metadata": {
        "id": "9TzYixwxmXyf",
        "colab_type": "text"
      },
      "source": [
        "### Overview\n",
        "\n",
        "You just fitted a model! Having learned the hidden parameter you can draw further inferences. The graph of the probability mass function looks pretty much right - majority of our samples is in the left side of the range where there is more probability mass."
      ]
    },
    {
      "cell_type": "code",
      "metadata": {
        "id": "mF_4KRoym6Gk",
        "colab_type": "code",
        "colab": {
          "base_uri": "https://localhost:8080/",
          "height": 279
        },
        "outputId": "1be3784e-22be-47c9-ffa0-304ea3235658"
      },
      "source": [
        "step = [i + 1 for i in range(10)]\n",
        "poisson = [math.exp(logPr_X(i, λ)) for i in step]\n",
        "\n",
        "fig, ax = plt.subplots()\n",
        "jitter_y = np.random.uniform(low=-0.01, high=0.01, size=len(xs))\n",
        "ax.axhline(y=0, color='orange', linewidth='2')\n",
        "ax.scatter(xs, jitter_y, marker='+')\n",
        "ax.plot(step, poisson, marker='*')\n",
        "\n",
        "ax.set(xlabel='x', ylabel='Pr_X')\n",
        "ax.grid()\n",
        "\n",
        "\n",
        "plt.show()"
      ],
      "execution_count": null,
      "outputs": [
        {
          "output_type": "display_data",
          "data": {
            "image/png": "[encoded data removed]",
            "text/plain": [
              "<Figure size 432x288 with 1 Axes>"
            ]
          },
          "metadata": {
            "tags": [],
            "needs_background": "light"
          }
        }
      ]
    },
    {
      "cell_type": "markdown",
      "metadata": {
        "id": "EdQyp7WgtmAO",
        "colab_type": "text"
      },
      "source": [
        "### More Advanced Example\n",
        "\n",
        "That was cool, lets do it again! This time we will try to find clusters in a data using Gaussian Mixture Model.\n",
        "\n",
        "Lets get acquainted with the data. Here are test scores of 82 students. Clusters in this dataset might indicate that there exist some teaching/learning disparities. Lets investigate it further! "
      ]
    },
    {
      "cell_type": "code",
      "metadata": {
        "id": "y9lTTLiV0CVM",
        "colab_type": "code",
        "colab": {}
      },
      "source": [
        " scores = [\n",
        " 91, 93, 94, 95, 97, 102, 104, 160, 161, 184, 185, 186, 189,\n",
        " 190, 190, 193, 193, 193, 194, 194, 195, 195, 195, 196, 198,\n",
        " 198, 198, 199, 199, 199, 199, 201, 201, 201, 201, 202, 202,\n",
        " 204, 206, 207, 208, 208, 208, 209, 211, 214, 217, 218, 219,\n",
        " 219, 221, 222, 222, 222, 223, 223, 224, 227, 227, 228, 229,\n",
        " 232, 232, 232, 234, 235, 235, 236, 237, 237, 241, 242, 242,\n",
        " 243, 247, 249, 256, 266, 269, 320, 327, 342]"
      ],
      "execution_count": null,
      "outputs": []
    },
    {
      "cell_type": "markdown",
      "metadata": {
        "id": "D7_4A_1h2B_b",
        "colab_type": "text"
      },
      "source": [
        "**Exercise 2.1** Get acquainted with the data. Your first task is to plot the data points on an axis (similarly to the plot above). Here is the code to get you started (you might also want to pass `alpha=0.6` parameter to `scatter` function). How many clusters do you expect?"
      ]
    },
    {
      "cell_type": "code",
      "metadata": {
        "id": "Uw-xuYh12lZK",
        "colab_type": "code",
        "colab": {}
      },
      "source": [
        "fig, ax = plt.subplots(figsize = (8,0.3))\n",
        "jitter_y = # create random jitter in y direction - it will be easear to see the point \n",
        "# use ax.scatter to paint the points\n",
        "\n",
        "plt.show()"
      ],
      "execution_count": null,
      "outputs": []
    },
    {
      "cell_type": "markdown",
      "metadata": {
        "id": "wlVinII_1Z4R",
        "colab_type": "text"
      },
      "source": [
        "### First step\n",
        "\n",
        "The model we are going to fit assumes that we are looking into multiple groups mixed together - each with their characteristic Normal (Gaussian) distribution. We will try to identify three clusters (this choice is somewhat arbitrary, you will explore different choices in a later exercise).\n",
        "\n",
        "The model depends on nine parameters:\n",
        "*   $p_1$ - probability that the sample belongs to cluster 1 \n",
        "*   $m_1$ - mean of the 1st cluster's normal (\"normal\" is short for \"normal distribution\")\n",
        "*   $s_1$ - standard deviation of the 1st cluster's normal\n",
        "\n",
        "And similarly $p_2$, $m_2$, $s_2$, $p_3$, $m_3$, $s_3$.\n",
        "\n",
        "The probability density is thus the probability that $x$ belongs to cluster 1 or to cluster 2 or to cluster 3:\n",
        "\n",
        "$Pr_X(x | p_1,m_1,s_1,p_2,m_2,s_2,p_3,m_3,s_3) \n",
        "= P(x$ belongs to cluster 1$) + P(x$ belongs to cluster 2$) + P(x$ belongs to cluster 3$) = p_1\\times Pr_{Normal}(x | m_1, s_1) + p_2\\times Pr_{Normal}(x | m_2, s_2) + p_3\\times Pr_{Normal}(x | m_3, s_3)$\n",
        "\n",
        "Here $Pr_{Normal}$ is just probability density of a normal distribution:\n",
        "\n",
        "$$Pr_{Normal}(x | \\mu, \\sigma) = \\frac{1}{\\sqrt{2\\pi \\sigma^2}}exp(\\frac{-(x-\\mu)^2}{2\\sigma^2})$$\n",
        "\n",
        "Just don't forget about constraints!\n",
        "\n",
        "$$p_1, p_2, p_3 \\in [0; 1]$$\n",
        "$$p_1 + p_2 + p_3 = 1$$\n",
        "$$s_1, s_2, s_3 \\in [0; \\infty)$$\n",
        "\n",
        "**Exercise 2.2** Write down the function for $log(Pr_X(x | p_1,p_2,p_3,m_1,m_2,m_3,s_1,s_2,s_3))$. The parameters are given in a list L. For normal distribution density you can use Pr_N(x, m, s) function that I have handily provided! "
      ]
    },
    {
      "cell_type": "code",
      "metadata": {
        "id": "r8mfkmdmixVO",
        "colab_type": "code",
        "colab": {}
      },
      "source": [
        "import scipy.stats\n",
        "Pr_N = scipy.stats.norm.pdf\n",
        "\n",
        "def logPr_X(x, L):\n",
        "  \"\"\"\n",
        "  Calculates log probability of seeing the given sample under given parameters\n",
        "  :param x: (real) - sample \n",
        "  :param L: (list [p1, p2, p3, m1, m2, m3, s1, s2, s3]) - list of parameters\n",
        "  :return: (real)\n",
        "  \"\"\"\n",
        "  # You code goes here"
      ],
      "execution_count": null,
      "outputs": []
    },
    {
      "cell_type": "markdown",
      "metadata": {
        "id": "VlEIzLVYPL_G",
        "colab_type": "text"
      },
      "source": [
        "### Second Step\n",
        "\n",
        "Time to express our log likelihood function! \n",
        "\n",
        "**Exercise 2.3** Write a function for log likelihood of the parameters (given as a list L like in the function `logPr_X`)."
      ]
    },
    {
      "cell_type": "code",
      "metadata": {
        "id": "i029IdnxP2BF",
        "colab_type": "code",
        "colab": {}
      },
      "source": [
        "def loglik(L):\n",
        "  \"\"\"\n",
        "  Calculates log likelihood of obsrving our data set under given parameters\n",
        "  :global scores: (list of reals) - samples \n",
        "  :param L: (list [p1, p2, p3, m1, m2, m3, s1, s2, s3]) - list of parameters\n",
        "  :return: (real)\n",
        "  \"\"\"\n",
        "  global scores\n",
        "  # Your code goes here"
      ],
      "execution_count": null,
      "outputs": []
    },
    {
      "cell_type": "markdown",
      "metadata": {
        "id": "LsW6TN6LQ_tp",
        "colab_type": "text"
      },
      "source": [
        "### Third step\n",
        "\n",
        "We can now use numerical optimisation to estimate the parameters for the distribution.\n",
        "\n",
        "As you know, this is the point that constraints come in. I am sure that you will be able to deal with $s_1, s_2, s_3$ now, but what about $p_1, p_2, p_3$?\n",
        "\n",
        "Firstly for $p_i \\in [0; \\infty)$ we can bring back our good friend exponential and a new temporary variable $q_i$. Then set:\n",
        "\n",
        "$$p_i = \\frac{e^{q_i}}{e^{q_i} + 1}$$\n",
        "\n",
        "Then when $q_i$ is a very big number, then the denomerator becomes only slithly bigger then numerator, so $p_i$ gets very close to $1$ - and never greater than $1$.\n",
        "\n",
        "Conversely, when $q_i$ is a very big negative number, $e_{q_i}$ becomes a very small positive number. \n",
        "\n",
        "$$p_i = \\frac{e^{-\\infty}}{e^{-\\infty} + 1} \\approx \\frac{0}{0+1} \\approx 0$$\n",
        "\n",
        "So we are good! \n",
        "\n",
        "For the sum constraint $p_1 + p_2 + p_3 = 1$ we can express one of $p_i$ in terms of others, like so:\n",
        "\n",
        "$$p_3 = 1 - p_1 - p_2 = 1 - \\frac{e^{q_1}}{e^{q_1} + 1} - \\frac{e^{q_2}}{e^{q_2} + 1}$$\n",
        "\n",
        "However, right now $p_3$ can become negative, so we will need to readjust $p_1$ and $p_2$, but the idea remains the same:\n",
        "\n",
        "$$p_1 = \\frac{e^{q_1}}{e^{q_1} + e^{q_2} + 1}$$\n",
        "\n",
        "$$p_2 = \\frac{e^{q_2}}{e^{q_1} + e^{q_2} + 1}$$\n",
        "\n",
        "$$p_3 = \\frac{1}{e^{q_1} + e^{q_2} + 1}$$\n",
        "\n",
        "The task now is to correctly express it for numerical optimisation!\n",
        "\n",
        "**Exercise 2.4** Write a function f(T) where T is a list of parameters `[q1, q2, m1, m2, m3, t1, t2, t3]` that expresses the function we are trying to minimise using `loglik` function defined earlier. When the optimisation terminates recover the formal parameters from the temporary ones."
      ]
    },
    {
      "cell_type": "code",
      "metadata": {
        "id": "-RS9FsZsUg--",
        "colab_type": "code",
        "colab": {}
      },
      "source": [
        "def f(T):\n",
        "  \"\"\"\n",
        "  Funtion to be optimised.\n",
        "  :param T: (list [q1, q2, m1, m2, m3, t1, t2, t3]) - temporary parameters\n",
        "  :return: (real)\n",
        "  \"\"\"\n",
        "  # Your code goes here\n",
        "\n",
        "initial_guess = [-1,-1, 100,200,240, math.log(10),math.log(50),math.log(80)]\n",
        "\n",
        "t = scipy.optimize.fmin(f, initial_guess, maxiter=4000)\n",
        "\n",
        "# Recover formal parameters\n",
        "[q1, q2, m1, m2, m3, t1, t2, t3] = t\n",
        "\n",
        "# Your code goes here\n",
        "\n",
        "# Arrange parameters back to param list:\n",
        "L = [p1, p2, p3, m1, m2, m3, s1, s2, s3]"
      ],
      "execution_count": null,
      "outputs": []
    },
    {
      "cell_type": "markdown",
      "metadata": {
        "id": "XyqU4fMBBPRY",
        "colab_type": "text"
      },
      "source": [
        "Time to generate the final graph and think what the results mean. Maybe the students in the different groups belong to different schools, different social groups, what causes the difference in test performance - there are a lot of questions that could follow your analysis! \n",
        "\n",
        "**Exercise 2.5** Generate the graph for the probability distribution. Use your code from earlier to add the data-points to the graph. This is the graph that I get:"
      ]
    },
    {
      "cell_type": "markdown",
      "metadata": {
        "id": "t2FYtdGnCSuU",
        "colab_type": "text"
      },
      "source": [
        "![image.png](data:image/png;base64,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)"
      ]
    },
    {
      "cell_type": "code",
      "metadata": {
        "id": "KSEyZB7a_Efx",
        "colab_type": "code",
        "colab": {}
      },
      "source": [
        "fig, ax = plt.subplots()\n",
        "x = np.linspace(60,360,200)\n",
        "\n",
        "#Your code goes here\n",
        "\n",
        "plt.show()"
      ],
      "execution_count": null,
      "outputs": []
    },
    {
      "cell_type": "markdown",
      "metadata": {
        "id": "sq3ejIZlDfT8",
        "colab_type": "text"
      },
      "source": [
        "**Exercise 2.6** Use the same `scores` data set to fit Gaussian mixture model with either 2 or 4 (you choose!) clusters. Which model is a better fit - the 3-cluster model or your model? How do you know?"
      ]
    },
    {
      "cell_type": "markdown",
      "metadata": {
        "id": "TT9u2DuOJvdX",
        "colab_type": "text"
      },
      "source": [
        "## Supervised learning and linear regression\n",
        "\n",
        "#### Introduction. Labels and Predictors.\n",
        "\n",
        "What we have seen previously was unsupervised learning. We just had loose data points that we assumed came from the same distribution and saw where that took us. But a lot of the time we have more data and it is strange not to use it! A usual task is to predict that additional set of data by another. For instance, we could have asked the students in previous example how much time had they studied. Then we could try to predict how much a new student has studied based only on his/her test score! Or we could ask more interesting questions such as \"does study time determine which cluster the student belongs to?\". That is the power of supervised machine learning. \n",
        "\n",
        "The \"supervised\" comes from the fact that labels keep the optimisation in check. This means it cannot just group and so interpret the data freely.\n",
        "\n",
        "The \"main\" data points (like test scores in the example) are called - not surprisingly - predictors. The additional data that we want to understand is called a label. \n",
        "\n",
        "Labels can be binary. For instance, the predictors can be pictures of tissue converted into real numbers using some smart scheme and the labels are just \"tumour\" and \"not tumour\" as labeled by doctors. \n",
        "\n",
        "Labels can also be real numbers as in the \"hours studied\" example. \n"
      ]
    },
    {
      "cell_type": "markdown",
      "metadata": {
        "id": "TMrQ40x_qXvo",
        "colab_type": "text"
      },
      "source": [
        "### The Data\n",
        "For this section we will use data from Lithuanian Department of Statistics about the procentage of people that bought a certain type of goods online. \n",
        "\n",
        "We can correlated this number to how likely a person is to buy something based on their age group. Of course, this is a naive assumption because the data is quite crude - it tracks self-reported buying behaviour over a period of one year. You can imagine how to take this analysis further if you are running an e-shop and have more fine-grained data.\n",
        "\n",
        "Lets look at the data!\n",
        "\n",
        "To get the data you will need to upload the `buy.csv` file using the *Files* panel on the left."
      ]
    },
    {
      "cell_type": "code",
      "metadata": {
        "id": "m8MHgdZZctHQ",
        "colab_type": "code",
        "colab": {
          "base_uri": "https://localhost:8080/",
          "height": 343
        },
        "outputId": "4584de12-15c0-48b6-9fde-54a126718a69"
      },
      "source": [
        "import pandas\n",
        "\n",
        "buy = pandas.read_csv('buy.csv')\n",
        "buy"
      ],
      "execution_count": null,
      "outputs": [
        {
          "output_type": "execute_result",
          "data": {
            "text/html": [
              "<div>\n",
              "<style scoped>\n",
              "    .dataframe tbody tr th:only-of-type {\n",
              "        vertical-align: middle;\n",
              "    }\n",
              "\n",
              "    .dataframe tbody tr th {\n",
              "        vertical-align: top;\n",
              "    }\n",
              "\n",
              "    .dataframe thead th {\n",
              "        text-align: right;\n",
              "    }\n",
              "</style>\n",
              "<table border=\"1\" class=\"dataframe\">\n",
              "  <thead>\n",
              "    <tr style=\"text-align: right;\">\n",
              "      <th></th>\n",
              "      <th>2015</th>\n",
              "      <th>2016</th>\n",
              "      <th>2017</th>\n",
              "      <th>2018</th>\n",
              "      <th>2019</th>\n",
              "      <th>age_group</th>\n",
              "      <th>goods</th>\n",
              "    </tr>\n",
              "  </thead>\n",
              "  <tbody>\n",
              "    <tr>\n",
              "      <th>0</th>\n",
              "      <td>31.2</td>\n",
              "      <td>38.6</td>\n",
              "      <td>38.9</td>\n",
              "      <td>38.8</td>\n",
              "      <td>45.6</td>\n",
              "      <td>16-24</td>\n",
              "      <td>Wear</td>\n",
              "    </tr>\n",
              "    <tr>\n",
              "      <th>1</th>\n",
              "      <td>2.8</td>\n",
              "      <td>5.2</td>\n",
              "      <td>6.9</td>\n",
              "      <td>5.8</td>\n",
              "      <td>5.3</td>\n",
              "      <td>16-24</td>\n",
              "      <td>Learning material</td>\n",
              "    </tr>\n",
              "    <tr>\n",
              "      <th>2</th>\n",
              "      <td>30.8</td>\n",
              "      <td>38.2</td>\n",
              "      <td>41.6</td>\n",
              "      <td>43.0</td>\n",
              "      <td>52.2</td>\n",
              "      <td>25-34</td>\n",
              "      <td>Wear</td>\n",
              "    </tr>\n",
              "    <tr>\n",
              "      <th>3</th>\n",
              "      <td>1.4</td>\n",
              "      <td>2.0</td>\n",
              "      <td>6.5</td>\n",
              "      <td>5.4</td>\n",
              "      <td>6.2</td>\n",
              "      <td>25-34</td>\n",
              "      <td>Learning material</td>\n",
              "    </tr>\n",
              "    <tr>\n",
              "      <th>4</th>\n",
              "      <td>20.4</td>\n",
              "      <td>25.9</td>\n",
              "      <td>28.2</td>\n",
              "      <td>33.9</td>\n",
              "      <td>38.0</td>\n",
              "      <td>35-44</td>\n",
              "      <td>Wear</td>\n",
              "    </tr>\n",
              "    <tr>\n",
              "      <th>5</th>\n",
              "      <td>1.6</td>\n",
              "      <td>2.4</td>\n",
              "      <td>3.8</td>\n",
              "      <td>3.0</td>\n",
              "      <td>4.0</td>\n",
              "      <td>35-44</td>\n",
              "      <td>Learning material</td>\n",
              "    </tr>\n",
              "    <tr>\n",
              "      <th>6</th>\n",
              "      <td>10.0</td>\n",
              "      <td>11.0</td>\n",
              "      <td>13.4</td>\n",
              "      <td>16.0</td>\n",
              "      <td>20.5</td>\n",
              "      <td>45-54</td>\n",
              "      <td>Wear</td>\n",
              "    </tr>\n",
              "    <tr>\n",
              "      <th>7</th>\n",
              "      <td>0.7</td>\n",
              "      <td>0.9</td>\n",
              "      <td>1.4</td>\n",
              "      <td>2.7</td>\n",
              "      <td>2.0</td>\n",
              "      <td>45-54</td>\n",
              "      <td>Learning material</td>\n",
              "    </tr>\n",
              "    <tr>\n",
              "      <th>8</th>\n",
              "      <td>3.6</td>\n",
              "      <td>4.3</td>\n",
              "      <td>5.5</td>\n",
              "      <td>6.8</td>\n",
              "      <td>9.3</td>\n",
              "      <td>55-64</td>\n",
              "      <td>Wear</td>\n",
              "    </tr>\n",
              "    <tr>\n",
              "      <th>9</th>\n",
              "      <td>0.2</td>\n",
              "      <td>0.5</td>\n",
              "      <td>0.7</td>\n",
              "      <td>0.6</td>\n",
              "      <td>0.5</td>\n",
              "      <td>55-64</td>\n",
              "      <td>Learning material</td>\n",
              "    </tr>\n",
              "  </tbody>\n",
              "</table>\n",
              "</div>"
            ],
            "text/plain": [
              "   2015  2016  2017  2018  2019 age_group              goods\n",
              "0  31.2  38.6  38.9  38.8  45.6     16-24               Wear\n",
              "1   2.8   5.2   6.9   5.8   5.3     16-24  Learning material\n",
              "2  30.8  38.2  41.6  43.0  52.2     25-34               Wear\n",
              "3   1.4   2.0   6.5   5.4   6.2     25-34  Learning material\n",
              "4  20.4  25.9  28.2  33.9  38.0     35-44               Wear\n",
              "5   1.6   2.4   3.8   3.0   4.0     35-44  Learning material\n",
              "6  10.0  11.0  13.4  16.0  20.5     45-54               Wear\n",
              "7   0.7   0.9   1.4   2.7   2.0     45-54  Learning material\n",
              "8   3.6   4.3   5.5   6.8   9.3     55-64               Wear\n",
              "9   0.2   0.5   0.7   0.6   0.5     55-64  Learning material"
            ]
          },
          "metadata": {
            "tags": []
          },
          "execution_count": 2
        }
      ]
    },
    {
      "cell_type": "markdown",
      "metadata": {
        "id": "Qr2QfTdUrtr6",
        "colab_type": "text"
      },
      "source": [
        "To make this analysis more concrete and fun. We will assume that you run an online website that people visit frequently thoughout the year. Furthermore, you sell hats for XX \\$ and Data Science course for XXX \\$. You can choose an addvertisement for either gloves or your course that the person sees each time they visit your page. At the end of the year you expect they will buy the good you advertised with the probability close to the overall population behaviour based on the [mere-exposure effect](https://en.wikipedia.org/wiki/Mere-exposure_effect). So, based on their age group which add should you show your visitors? \n",
        "\n",
        "Whoa, that is a hard (but lucrative) question! We will unpack it bit by bit while learning about supervised learning. For now lets simplify our dataset and look for trends in the \"Wear\" category."
      ]
    },
    {
      "cell_type": "code",
      "metadata": {
        "id": "AWBrqDBoc9rb",
        "colab_type": "code",
        "colab": {
          "base_uri": "https://localhost:8080/",
          "height": 195
        },
        "outputId": "aeba27d3-a32f-4484-c2c4-046a4419ab0c"
      },
      "source": [
        "w = buy[buy['goods'] == 'Wear']\n",
        "\n",
        "w"
      ],
      "execution_count": null,
      "outputs": [
        {
          "output_type": "execute_result",
          "data": {
            "text/html": [
              "<div>\n",
              "<style scoped>\n",
              "    .dataframe tbody tr th:only-of-type {\n",
              "        vertical-align: middle;\n",
              "    }\n",
              "\n",
              "    .dataframe tbody tr th {\n",
              "        vertical-align: top;\n",
              "    }\n",
              "\n",
              "    .dataframe thead th {\n",
              "        text-align: right;\n",
              "    }\n",
              "</style>\n",
              "<table border=\"1\" class=\"dataframe\">\n",
              "  <thead>\n",
              "    <tr style=\"text-align: right;\">\n",
              "      <th></th>\n",
              "      <th>2015</th>\n",
              "      <th>2016</th>\n",
              "      <th>2017</th>\n",
              "      <th>2018</th>\n",
              "      <th>2019</th>\n",
              "      <th>age_group</th>\n",
              "      <th>goods</th>\n",
              "    </tr>\n",
              "  </thead>\n",
              "  <tbody>\n",
              "    <tr>\n",
              "      <th>0</th>\n",
              "      <td>31.2</td>\n",
              "      <td>38.6</td>\n",
              "      <td>38.9</td>\n",
              "      <td>38.8</td>\n",
              "      <td>45.6</td>\n",
              "      <td>16-24</td>\n",
              "      <td>Wear</td>\n",
              "    </tr>\n",
              "    <tr>\n",
              "      <th>2</th>\n",
              "      <td>30.8</td>\n",
              "      <td>38.2</td>\n",
              "      <td>41.6</td>\n",
              "      <td>43.0</td>\n",
              "      <td>52.2</td>\n",
              "      <td>25-34</td>\n",
              "      <td>Wear</td>\n",
              "    </tr>\n",
              "    <tr>\n",
              "      <th>4</th>\n",
              "      <td>20.4</td>\n",
              "      <td>25.9</td>\n",
              "      <td>28.2</td>\n",
              "      <td>33.9</td>\n",
              "      <td>38.0</td>\n",
              "      <td>35-44</td>\n",
              "      <td>Wear</td>\n",
              "    </tr>\n",
              "    <tr>\n",
              "      <th>6</th>\n",
              "      <td>10.0</td>\n",
              "      <td>11.0</td>\n",
              "      <td>13.4</td>\n",
              "      <td>16.0</td>\n",
              "      <td>20.5</td>\n",
              "      <td>45-54</td>\n",
              "      <td>Wear</td>\n",
              "    </tr>\n",
              "    <tr>\n",
              "      <th>8</th>\n",
              "      <td>3.6</td>\n",
              "      <td>4.3</td>\n",
              "      <td>5.5</td>\n",
              "      <td>6.8</td>\n",
              "      <td>9.3</td>\n",
              "      <td>55-64</td>\n",
              "      <td>Wear</td>\n",
              "    </tr>\n",
              "  </tbody>\n",
              "</table>\n",
              "</div>"
            ],
            "text/plain": [
              "   2015  2016  2017  2018  2019 age_group goods\n",
              "0  31.2  38.6  38.9  38.8  45.6     16-24  Wear\n",
              "2  30.8  38.2  41.6  43.0  52.2     25-34  Wear\n",
              "4  20.4  25.9  28.2  33.9  38.0     35-44  Wear\n",
              "6  10.0  11.0  13.4  16.0  20.5     45-54  Wear\n",
              "8   3.6   4.3   5.5   6.8   9.3     55-64  Wear"
            ]
          },
          "metadata": {
            "tags": []
          },
          "execution_count": 3
        }
      ]
    },
    {
      "cell_type": "markdown",
      "metadata": {
        "id": "XBYabBept90i",
        "colab_type": "text"
      },
      "source": [
        "Lets also draw a plot for these datapoints! After that we will try to fit a line through these data points."
      ]
    },
    {
      "cell_type": "code",
      "metadata": {
        "id": "Rs8BjdJ1iLtA",
        "colab_type": "code",
        "colab": {
          "base_uri": "https://localhost:8080/",
          "height": 265
        },
        "outputId": "3f54bbae-8872-4894-ea06-d4850000726d"
      },
      "source": [
        "x = []\n",
        "y = []\n",
        "for year in {'2015', '2016', '2017', '2018', '2019'}:\n",
        "  y += w[year].tolist()\n",
        "  x += [int(year) for _ in range(w.shape[0])]\n",
        "\n",
        "fig, ax = plt.subplots()\n",
        "\n",
        "ax.scatter(x, y)\n",
        "ax.set_xlim(2014.5,2019.5)\n",
        "ax.set_xticks([2015,2016,2017,2018,2019])\n",
        "plt.show()"
      ],
      "execution_count": null,
      "outputs": [
        {
          "output_type": "display_data",
          "data": {
            "image/png": "[encoded data removed]",
            "text/plain": [
              "<Figure size 432x288 with 1 Axes>"
            ]
          },
          "metadata": {
            "tags": [],
            "needs_background": "light"
          }
        }
      ]
    },
    {
      "cell_type": "markdown",
      "metadata": {
        "id": "wd7GpxUfuauJ",
        "colab_type": "text"
      },
      "source": [
        "### First Step \n",
        "\n",
        "The first step in a supervised learning task is similar to the first step in unsupervised learning. It is to chose a distribution that we think our sample came from. The only difference is that this time the probablility distribution in addition to parameters also has to include the predictors (in this case - years). \n",
        "\n",
        "Lets choose the following model:\n",
        "\n",
        "$Y$ ~ $a + b\\times X + Normal(0, \\sigma)$\n",
        "\n",
        "This model assumes, that the general trend is linear. But the points can be scattered accross a range in a single year. Though matematical mangling this is the same as:  \n",
        "\n",
        "$Y$ ~ $Normal(a + b\\times X, \\sigma)$\n",
        "\n",
        "You can think of this intuitvely as if the general trend line systematically lifts the mean of the Normal. So we will use Normal probability density function as defined earlier.\n",
        "\n",
        "Do not forget the constraints:\n",
        "\n",
        "$\\sigma \\in [0; \\infty)$"
      ]
    },
    {
      "cell_type": "code",
      "metadata": {
        "id": "arBSwbTdyyYW",
        "colab_type": "code",
        "colab": {}
      },
      "source": [
        "import scipy.stats\n",
        "Pr_N = scipy.stats.norm.pdf\n",
        "\n",
        "def logPr_Y(y, x, L):\n",
        "  \"\"\"\n",
        "  Calculates log probability of seeing the given label under given parameters\n",
        "  and predictor values.\n",
        "  :param y: (real) - sample\n",
        "  :param x: (real) - predictor  \n",
        "  :param L: (list [a, b, s]) - list of parameters, s stands for sigma\n",
        "  :return: (real)\n",
        "  \"\"\"\n",
        "  a, b, s = L\n",
        "  n = Pr_N(y, a + b*x, s)\n",
        "  return np.log(n)"
      ],
      "execution_count": null,
      "outputs": []
    },
    {
      "cell_type": "markdown",
      "metadata": {
        "id": "ShzCuCdy_ZR7",
        "colab_type": "text"
      },
      "source": [
        "### Second step\n",
        "\n",
        "It is also very similar to the second step we saw previously. The goal of this step is to express the likelihood of observing the current set of parameters. Just this time the likelihood of parameters depends on two sets of data. We write this as: \n",
        "\n",
        "$$lik(\\Lambda | x_1, ..., x_n, y_1, ..., y_n)$$\n",
        "\n",
        "Which using independence assumption is the same as:\n",
        "\n",
        "$$Pr_Y(y_1|x_1, \\Lambda)\\times ... \\times Pr_Y(y_n|x_n, \\Lambda)$$\n",
        "\n",
        "Similarly, as before we will work with log likelihood."
      ]
    },
    {
      "cell_type": "code",
      "metadata": {
        "id": "dN7hzPF7A3cP",
        "colab_type": "code",
        "colab": {}
      },
      "source": [
        "def loglik(L):\n",
        "  \"\"\"\n",
        "    Calculates log likelihood of the entire dataset under given parameters.\n",
        "    :param L: (list [a, b, s]) - list of parameters\n",
        "    :global x: ([2015, ..., 2015, ... 2019, ..., 2019]) - the predictors\n",
        "    :global y: (list of reals) - the labels (percentages) for the data set  \n",
        "    :return: (real)\n",
        "  \"\"\"\n",
        "  global x\n",
        "  global y \n",
        "  prx = [logPr_Y(y[i], x[i],L) for i in range(len(y))]\n",
        "  return sum(prx)"
      ],
      "execution_count": null,
      "outputs": []
    },
    {
      "cell_type": "markdown",
      "metadata": {
        "id": "DDqUoG4ZB6nA",
        "colab_type": "text"
      },
      "source": [
        "### Third step\n",
        "\n",
        "Here we can do business as usual: create a helper function to optimise over and recover best estimate parameters."
      ]
    },
    {
      "cell_type": "code",
      "metadata": {
        "id": "ioG6KBS-CLgO",
        "colab_type": "code",
        "colab": {
          "base_uri": "https://localhost:8080/",
          "height": 101
        },
        "outputId": "5a59c1b7-3df3-4d80-e753-a7e9ef961dc9"
      },
      "source": [
        "def f(T):\n",
        "  \"\"\"\n",
        "  Funtion to be optimised.quadratic\n",
        "  :param T: [a, b, t] - temporary parameter\n",
        "  :return: (real)\n",
        "  \"\"\"\n",
        "  a,b,t = T\n",
        "  s = math.exp(t)\n",
        "  L = [a,b,s]\n",
        "  return -loglik(L)\n",
        "\n",
        "initial_guess = [-6000, 3, 10]\n",
        "\n",
        "T = scipy.optimize.fmin(f, initial_guess, maxiter=5000)\n",
        "\n",
        "# Recover lambda\n",
        "a,b,t = T\n",
        "s = math.exp(t)\n",
        "print(a,b,s)"
      ],
      "execution_count": null,
      "outputs": [
        {
          "output_type": "stream",
          "text": [
            "Optimization terminated successfully.\n",
            "         Current function value: 101.278132\n",
            "         Iterations: 178\n",
            "         Function evaluations: 325\n",
            "-6416.4699376515655 3.1939999689896927 13.904141537761753\n"
          ],
          "name": "stdout"
        }
      ]
    },
    {
      "cell_type": "code",
      "metadata": {
        "id": "DBv_DTmXEX-G",
        "colab_type": "code",
        "colab": {
          "base_uri": "https://localhost:8080/",
          "height": 265
        },
        "outputId": "42950795-2e7e-45c5-ba1e-8102eb0d0046"
      },
      "source": [
        "fig, ax = plt.subplots()\n",
        "xs = np.linspace(2014.4, 2019.5, 200) \n",
        "ys = [a + b*x for x in xs]\n",
        "\n",
        "ax.scatter(x, y)\n",
        "ax.plot(xs, ys)\n",
        "ax.set_xlim(2014.5,2019.5)\n",
        "ax.set_xticks([2015,2016,2017,2018,2019])\n",
        "plt.show()"
      ],
      "execution_count": null,
      "outputs": [
        {
          "output_type": "display_data",
          "data": {
            "image/png": "[encoded data removed]",
            "text/plain": [
              "<Figure size 432x288 with 1 Axes>"
            ]
          },
          "metadata": {
            "tags": [],
            "needs_background": "light"
          }
        }
      ]
    },
    {
      "cell_type": "markdown",
      "metadata": {
        "id": "KbyDLZQ5adYB",
        "colab_type": "text"
      },
      "source": [
        "Whoosh! That was a lot of work for a line. What if I told you, that we could have achieved this fit with 4 lines of code! "
      ]
    },
    {
      "cell_type": "code",
      "metadata": {
        "id": "c7sIvvmfILZ9",
        "colab_type": "code",
        "colab": {
          "base_uri": "https://localhost:8080/",
          "height": 34
        },
        "outputId": "1fdac495-10fb-4c23-9e05-dca65f65339f"
      },
      "source": [
        "import sklearn.linear_model\n",
        "\n",
        "one = np.ones(len(y))\n",
        "model = sklearn.linear_model.LinearRegression(fit_intercept = False)\n",
        "model.fit(np.column_stack([one, x]), y)\n",
        "\n",
        "(a,b) = model.coef_\n",
        "print(a,b)"
      ],
      "execution_count": null,
      "outputs": [
        {
          "output_type": "stream",
          "text": [
            "-6416.46999999986 3.193999999999931\n"
          ],
          "name": "stdout"
        }
      ]
    },
    {
      "cell_type": "code",
      "metadata": {
        "id": "_rgIvuvyYBL0",
        "colab_type": "code",
        "colab": {
          "base_uri": "https://localhost:8080/",
          "height": 265
        },
        "outputId": "56a8879b-0b36-459b-ccee-2d24ec107c76"
      },
      "source": [
        "fig, ax = plt.subplots()\n",
        "xs = np.linspace(2014.4, 2019.5, 200) \n",
        "ys = [a + b*x for x in xs]\n",
        "\n",
        "ax.scatter(x, y)\n",
        "ax.plot(xs, ys)\n",
        "ax.set_xlim(2014.5,2019.5)\n",
        "ax.set_xticks([2015,2016,2017,2018,2019])\n",
        "plt.show()"
      ],
      "execution_count": null,
      "outputs": [
        {
          "output_type": "display_data",
          "data": {
            "image/png": "[encoded data removed]",
            "text/plain": [
              "<Figure size 432x288 with 1 Axes>"
            ]
          },
          "metadata": {
            "tags": [],
            "needs_background": "light"
          }
        }
      ]
    },
    {
      "cell_type": "markdown",
      "metadata": {
        "id": "02YjuhHSa-iz",
        "colab_type": "text"
      },
      "source": [
        "### Linear Regression\n",
        "\n",
        "In fact the model that we so ardously fitted is a *linear model* and we can just use a method called *linear regression* to fit it. Lets unpack this statement.\n",
        "\n",
        "A linear model can be writen like so:\n",
        "\n",
        "$$y = \\beta_1\\times e_1 + ... + \\beta_K \\times e_K + \\epsilon$$\n",
        "\n",
        "$y$ in this notation is also called response vector and is a vector (i.e. a list of values) of our labels. $e_1, ... e_k$ are called feature vectors and contains the data we are predicting $y$ from. $\\beta_1, ... ,\\beta_K$ are feature weights - the parameters we are estimating. $\\epsilon$ is a vector of residuals - some small value that our linear model cannot capture.\n",
        "\n",
        "Linear regression then just picks $\\beta_1, ..., \\beta_K$ so that to minimise the residuals. To not favour negative values, linear regression actually minimises $\\frac{\\sum_i\\epsilon_i^2}{n}$.\n",
        "\n",
        "In the previous example our linear model was:\n",
        "\n",
        "$$y = a\\times 1 + b\\times x + \\epsilon$$\n",
        "\n",
        "Where $1$ is a vector of all ones. The normal term $Normal(0, \\sigma)$ stood for the residual error $\\epsilon$. So the two models are equivalent - that is why we got almost exactly the same line.\n",
        "\n",
        "We can quickly \"improve\" our linear model, lets see what happens if we add quadratic term, i.e. modeling:\n",
        "\n",
        "$$y = a\\times 1 + b\\times x + c \\times x^2+ \\epsilon$$"
      ]
    },
    {
      "cell_type": "code",
      "metadata": {
        "id": "Trnmftyjf0qt",
        "colab_type": "code",
        "colab": {
          "base_uri": "https://localhost:8080/",
          "height": 282
        },
        "outputId": "d740813a-40fe-4f46-8b5c-a430da67a566"
      },
      "source": [
        "one = np.ones(len(y))\n",
        "model = sklearn.linear_model.LinearRegression(fit_intercept = False)\n",
        "x_sq = [w*w for w in x]\n",
        "model.fit(np.column_stack([one, x, x_sq]), y)\n",
        "\n",
        "(a,b, c) = model.coef_\n",
        "print(a,b, c)\n",
        "\n",
        "fig, ax = plt.subplots()\n",
        "xs = np.linspace(2014.4, 2019.5, 200) \n",
        "ys = [a + b*x + c*x*x for x in xs]\n",
        "\n",
        "ax.scatter(x, y)\n",
        "ax.plot(xs, ys)\n",
        "ax.set_xlim(2014.5,2019.5)\n",
        "ax.set_xticks([2015,2016,2017,2018,2019])\n",
        "plt.show()"
      ],
      "execution_count": null,
      "outputs": [
        {
          "output_type": "stream",
          "text": [
            "661944.9652598372 -659.5345709782902 0.16428571417418425\n"
          ],
          "name": "stdout"
        },
        {
          "output_type": "display_data",
          "data": {
            "image/png": "[encoded data removed]",
            "text/plain": [
              "<Figure size 432x288 with 1 Axes>"
            ]
          },
          "metadata": {
            "tags": [],
            "needs_background": "light"
          }
        }
      ]
    },
    {
      "cell_type": "markdown",
      "metadata": {
        "id": "z3Oqzy2WgJAK",
        "colab_type": "text"
      },
      "source": [
        "The line got a little bit fancier! That is if you can see the slight bend that the line shows... It is only so far that we can get with this kind of analysis. What is more interesting is how the trend lines differ for different age groups.\n",
        "\n",
        "Here is a plot where I have highlighted different age groups with different colours.\n"
      ]
    },
    {
      "cell_type": "code",
      "metadata": {
        "id": "cVAPL1YUgqzn",
        "colab_type": "code",
        "colab": {
          "base_uri": "https://localhost:8080/",
          "height": 265
        },
        "outputId": "c082f00e-08c5-4396-9e36-844c7cadb009"
      },
      "source": [
        "fig, ax = plt.subplots()\n",
        "years = ['2015','2016','2017','2018','2019']\n",
        "years_int = [int(yr) for yr in years]\n",
        "\n",
        "z = zip(w['age_group'].tolist(), ['firebrick', 'teal', 'blue', 'darkgreen', 'orange'])\n",
        "for i,c in z:\n",
        "  ys = [w[w['age_group']==i][yr].tolist()[0] for yr in years]\n",
        "  ax.scatter(years_int, ys, color = c, alpha=.4, label=i)\n",
        "\n",
        "ax.legend(bbox_to_anchor=(1.05, 1.0), loc='upper left')\n",
        "ax.set_xlim(2014.5,2019.5)\n",
        "ax.set_xticks(years_int)\n",
        "plt.show()"
      ],
      "execution_count": null,
      "outputs": [
        {
          "output_type": "display_data",
          "data": {
            "image/png": "[encoded data removed]",
            "text/plain": [
              "<Figure size 432x288 with 1 Axes>"
            ]
          },
          "metadata": {
            "tags": [],
            "needs_background": "light"
          }
        }
      ]
    },
    {
      "cell_type": "markdown",
      "metadata": {
        "id": "HcYgOBO5m221",
        "colab_type": "text"
      },
      "source": [
        "### One hot encoding\n",
        "\n",
        "How can we fit a quadratic trend line through each of them?\n",
        "\n",
        "One useful trick is what is called \"one-hot encoding\". With it we assume that there is a seperate a, b, and c for each age group:\n",
        "\n",
        "$$y_{group} \\approx a_{group} + b_{group}\\times x + c_{group}\\times x^2$$\n",
        "\n",
        "What is cool is that we can implement all these trend lines within the same model. The key is to create a vector for each group and place 1 where the data point belongs to that group and 0 otherwise. I could do fancy 'pandas' mangling but since I have laid out my data year by year I could just mark every fifth entry! I will put them in a list just for convenience"
      ]
    },
    {
      "cell_type": "code",
      "metadata": {
        "id": "rns4fR-coG4r",
        "colab_type": "code",
        "colab": {
          "base_uri": "https://localhost:8080/",
          "height": 101
        },
        "outputId": "88804460-072f-4a67-fdf3-25329cb0bf77"
      },
      "source": [
        "ones_16_24 = [int(i % 5 == 0) for i in range(len(x))]\n",
        "ones_25_34 = [int(i % 5 == 1) for i in range(len(x))]\n",
        "ones_35_44 = [int(i % 5 == 2) for i in range(len(x))]\n",
        "ones_45_54 = [int(i % 5 == 3) for i in range(len(x))]\n",
        "ones_55_64 = [int(i % 5 == 4) for i in range(len(x))]\n",
        "one_list = [ones_16_24,ones_25_34, ones_35_44, ones_45_54, ones_55_64]\n",
        "one_list"
      ],
      "execution_count": null,
      "outputs": [
        {
          "output_type": "execute_result",
          "data": {
            "text/plain": [
              "[[1, 0, 0, 0, 0, 1, 0, 0, 0, 0, 1, 0, 0, 0, 0, 1, 0, 0, 0, 0, 1, 0, 0, 0, 0],\n",
              " [0, 1, 0, 0, 0, 0, 1, 0, 0, 0, 0, 1, 0, 0, 0, 0, 1, 0, 0, 0, 0, 1, 0, 0, 0],\n",
              " [0, 0, 1, 0, 0, 0, 0, 1, 0, 0, 0, 0, 1, 0, 0, 0, 0, 1, 0, 0, 0, 0, 1, 0, 0],\n",
              " [0, 0, 0, 1, 0, 0, 0, 0, 1, 0, 0, 0, 0, 1, 0, 0, 0, 0, 1, 0, 0, 0, 0, 1, 0],\n",
              " [0, 0, 0, 0, 1, 0, 0, 0, 0, 1, 0, 0, 0, 0, 1, 0, 0, 0, 0, 1, 0, 0, 0, 0, 1]]"
            ]
          },
          "metadata": {
            "tags": []
          },
          "execution_count": 13
        }
      ]
    },
    {
      "cell_type": "markdown",
      "metadata": {
        "id": "CeOVw6Nfi0tG",
        "colab_type": "text"
      },
      "source": [
        "In the following code snippet I additionally convert Python lists to numpy arrays, which makes it possible to do vectorised operations. For instance, raise each element of the list by the power of two or multiplity elements with the same index. Of course, this can also be achieved with a loop, but we are here to explore as much as possible of the neat Python features!"
      ]
    },
    {
      "cell_type": "code",
      "metadata": {
        "id": "D3UO_h85qUgw",
        "colab_type": "code",
        "colab": {}
      },
      "source": [
        "x_vector = np.array(x)\n",
        "y_vector = np.array(y)\n",
        "x_vector_sq = x_vector**2\n",
        "ones_vector = [np.array(one) for one in one_list]\n",
        "\n",
        "feature_vectors = []\n",
        "\n",
        "for one in ones_vector:\n",
        "  feature_vectors += [one, x_vector*one,x_vector_sq*one]"
      ],
      "execution_count": null,
      "outputs": []
    },
    {
      "cell_type": "markdown",
      "metadata": {
        "id": "CBIFUVwMjRjJ",
        "colab_type": "text"
      },
      "source": [
        "Now, it is time to fit the model. We will get 15 coeficients because we have 5 age groups and are fitting a quadratic curve through each one."
      ]
    },
    {
      "cell_type": "code",
      "metadata": {
        "id": "X5wBS3JRfNbD",
        "colab_type": "code",
        "colab": {
          "base_uri": "https://localhost:8080/",
          "height": 84
        },
        "outputId": "3ec8ec8c-5744-4353-e75c-698ebeda2089"
      },
      "source": [
        "import sklearn.linear_model\n",
        "\n",
        "model = sklearn.linear_model.LinearRegression(fit_intercept = False)\n",
        "model.fit(np.column_stack(feature_vectors), y_vector)\n",
        "\n",
        "weights = model.coef_\n",
        "print(weights)"
      ],
      "execution_count": null,
      "outputs": [
        {
          "output_type": "stream",
          "text": [
            "[-4.70781080e+05  4.63951689e+02 -1.14291445e-01  4.55331073e+05\n",
            " -4.56212791e+02  1.14271886e-01  1.65671002e+05 -1.68565717e+02\n",
            "  4.28571428e-02  2.08703187e+06 -2.07202857e+03  5.14285714e-01\n",
            "  1.07239240e+06 -1.06473857e+03  2.64285714e-01]\n"
          ],
          "name": "stdout"
        }
      ]
    },
    {
      "cell_type": "markdown",
      "metadata": {
        "id": "bE4fsnRZjrfr",
        "colab_type": "text"
      },
      "source": [
        "That was quick! The hardest part is now to untangle the weights and turn them into a reasonably looking graph."
      ]
    },
    {
      "cell_type": "code",
      "metadata": {
        "id": "fry09F6n-H4H",
        "colab_type": "code",
        "colab": {
          "base_uri": "https://localhost:8080/",
          "height": 265
        },
        "outputId": "95146bf8-fc06-4f7e-afdf-f0eeea6a1f9e"
      },
      "source": [
        "fig, ax = plt.subplots()\n",
        "years = ['2015','2016','2017','2018','2019']\n",
        "years_int = [int(yr) for yr in years]\n",
        "\n",
        "z = zip(w['age_group'].tolist(), ['firebrick', 'teal', 'blue', 'darkgreen', 'orange'])\n",
        "for i,c in z:\n",
        "  ys = [w[w['age_group']==i][yr].tolist()[0] for yr in years]\n",
        "  ax.scatter(years_int, ys, color = c, alpha=.4, label=i)\n",
        "\n",
        "xs = np.linspace(2014.4, 2019.5, 200) \n",
        "z = zip([i for i in range(5)], ['firebrick', 'teal', 'blue', 'darkgreen', 'orange'])\n",
        "for i,c in z:\n",
        "  ys = [weights[i*3] + weights[i*3+1]*x + weights[i*3+2]*x*x for x in xs]\n",
        "  ax.plot(xs, ys, color = c, alpha=.4, linestyle='--')\n",
        "\n",
        "ax.legend(bbox_to_anchor=(1.05, 1.0), loc='upper left')\n",
        "ax.set_xlim(2014.5,2019.5)\n",
        "ax.set_xticks(years_int)\n",
        "plt.show()"
      ],
      "execution_count": null,
      "outputs": [
        {
          "output_type": "display_data",
          "data": {
            "image/png": "[encoded data removed]",
            "text/plain": [
              "<Figure size 432x288 with 1 Axes>"
            ]
          },
          "metadata": {
            "tags": [],
            "needs_background": "light"
          }
        }
      ]
    },
    {
      "cell_type": "markdown",
      "metadata": {
        "id": "Gd0BS--hnkXw",
        "colab_type": "text"
      },
      "source": [
        "We can now see the trend lines for each age group! This makes it easier to answer questions for each age group related to advertisement. What is left is to do the same for Learning Material. \n",
        "\n",
        "**Exercise 2.7** Fit quadratic trend lines through data points for Learning Material. You should also get 15 weight - call the list of wwights `weights_lm` to differentiate them from the weights we got before. Then we will be able to return to the original questions. If you feel like strenghtening your Python skills, generate the graph for each trend line (as in the code snippet before) - but that is not neccesary."
      ]
    },
    {
      "cell_type": "code",
      "metadata": {
        "id": "z2Bf70vco8KU",
        "colab_type": "code",
        "colab": {
          "base_uri": "https://localhost:8080/",
          "height": 366
        },
        "outputId": "33966391-4049-437b-80ee-5ebabde46477"
      },
      "source": [
        "# Clean up table\n",
        "lm = buy[buy['goods'] == 'Learning material']\n",
        "print(lm)\n",
        "\n",
        "# Turn the table into lists\n",
        "x = []\n",
        "y = []\n",
        "for year in {'2015', '2016', '2017', '2018', '2019'}:\n",
        "  y += lm[year].tolist()\n",
        "  x += [int(year) for _ in range(lm.shape[0])]\n",
        "\n",
        "# Generate a simple graph for illustration\n",
        "fig, ax = plt.subplots()\n",
        "years = ['2015','2016','2017','2018','2019']\n",
        "years_int = [int(yr) for yr in years]\n",
        "\n",
        "z = zip(lm['age_group'].tolist(), ['firebrick', 'teal', 'blue', 'darkgreen', 'orange'])\n",
        "for i,c in z:\n",
        "  ys = [lm[lm['age_group']==i][yr].tolist()[0] for yr in years]\n",
        "  ax.scatter(years_int, ys, color = c, alpha=.4, label=i)\n",
        "\n",
        "ax.legend(bbox_to_anchor=(1.05, 1.0), loc='upper left')\n",
        "ax.set_xlim(2014.5,2019.5)\n",
        "ax.set_xticks(years_int)\n",
        "plt.show()"
      ],
      "execution_count": null,
      "outputs": [
        {
          "output_type": "stream",
          "text": [
            "   2015  2016  2017  2018  2019 age_group              goods\n",
            "1   2.8   5.2   6.9   5.8   5.3     16-24  Learning material\n",
            "3   1.4   2.0   6.5   5.4   6.2     25-34  Learning material\n",
            "5   1.6   2.4   3.8   3.0   4.0     35-44  Learning material\n",
            "7   0.7   0.9   1.4   2.7   2.0     45-54  Learning material\n",
            "9   0.2   0.5   0.7   0.6   0.5     55-64  Learning material\n"
          ],
          "name": "stdout"
        },
        {
          "output_type": "display_data",
          "data": {
            "image/png": "[encoded data removed]",
            "text/plain": [
              "<Figure size 432x288 with 1 Axes>"
            ]
          },
          "metadata": {
            "tags": [],
            "needs_background": "light"
          }
        }
      ]
    },
    {
      "cell_type": "code",
      "metadata": {
        "id": "LUMdvPOFp6ZS",
        "colab_type": "code",
        "colab": {
          "base_uri": "https://localhost:8080/",
          "height": 332
        },
        "outputId": "727fac33-4ee4-4d90-c01e-c064c9fe06b1"
      },
      "source": [
        "# Continue from here!\n",
        "\n",
        "model = sklearn.linear_model.LinearRegression(fit_intercept = False)\n",
        "model.fit(np.column_stack(feature_vectors), y)\n",
        "\n",
        "weights_lm = model.coef_\n",
        "print(weights_lm)\n",
        "\n",
        "fig, ax = plt.subplots()\n",
        "years = ['2015','2016','2017','2018','2019']\n",
        "years_int = [int(yr) for yr in years]\n",
        "\n",
        "z = zip(lm['age_group'].tolist(), ['firebrick', 'teal', 'blue', 'darkgreen', 'orange'])\n",
        "for i,c in z:\n",
        "  ys = [lm[lm['age_group']==i][yr].tolist()[0] for yr in years]\n",
        "  ax.scatter(years_int, ys, color = c, alpha=.4, label=i)\n",
        "\n",
        "xs = np.linspace(2014.4, 2019.5, 200) \n",
        "z = zip([i for i in range(5)], ['firebrick', 'teal', 'blue', 'darkgreen', 'orange'])\n",
        "for i,c in z:\n",
        "  ys = [weights_lm[i*3] + weights_lm[i*3+1]*x + weights_lm[i*3+2]*x*x for x in xs]\n",
        "  ax.plot(xs, ys, color = c, alpha=.4, linestyle='--')\n",
        "\n",
        "ax.legend(bbox_to_anchor=(1.05, 1.0), loc='upper left')\n",
        "ax.set_xlim(2014.5,2019.5)\n",
        "ax.set_xticks(years_int)\n",
        "plt.show()"
      ],
      "execution_count": null,
      "outputs": [
        {
          "output_type": "stream",
          "text": [
            "[-2.50013741e+06  2.47851173e+03 -6.14266666e-01 -1.51351400e+06\n",
            "  1.49946255e+03 -3.71383873e-01 -5.24151706e+05  5.19197150e+02\n",
            " -1.28571428e-01 -2.91477868e+05  2.88582857e+02 -7.14285715e-02\n",
            " -3.19791811e+05  3.17027143e+02 -7.85714285e-02]\n"
          ],
          "name": "stdout"
        },
        {
          "output_type": "display_data",
          "data": {
            "image/png": "[encoded data removed]",
            "text/plain": [
              "<Figure size 432x288 with 1 Axes>"
            ]
          },
          "metadata": {
            "tags": [],
            "needs_background": "light"
          }
        }
      ]
    },
    {
      "cell_type": "markdown",
      "metadata": {
        "id": "_fBRt2LinuiL",
        "colab_type": "text"
      },
      "source": [
        "### Conclusion\n",
        "\n",
        "The year is 2020 and we now care about the advertisement question:\n",
        "\n",
        "You run an online website that people visit frequently thoughout the year. Furthermore, you sell hats for 9 \\$ and Data Science course for 99 \\$. You can choose an addvertisement for either gloves or your course that the person sees each time they visit your page. At the end of the year you expect they will buy the good you advertised with the probability close to the overall population behaviour. So, based on their age group which add should you show them? \n",
        "\n",
        "Firstly we will calculated the expected proportion of the population that buys a particular item based on the weights we caculated earlier. Then, since we equate this number to the probability that a person buys something from your website this year, we can calculate the expected amount of money a person will spend on your website this year. Then, comparing this expected value through the different age groups we get the final result - which add should you show to which person. You can now turn this answer into a neat table and show your marketing division!"
      ]
    },
    {
      "cell_type": "code",
      "metadata": {
        "id": "9OCr14Mun6_i",
        "colab_type": "code",
        "colab": {
          "base_uri": "https://localhost:8080/",
          "height": 50
        },
        "outputId": "55d02389-2869-417b-ba96-f796d52749c8"
      },
      "source": [
        "year = 2020\n",
        "wear = np.empty(5)\n",
        "learn_mat = np.empty(5)\n",
        "\n",
        "for i in range(5):\n",
        "  wear[i] = 0.01 * (weights[i*3] + weights[i*3+1]*year + weights[i*3+2]*year*year)\n",
        "  learn_mat[i] = 0.01 * (weights_lm[i*3] + weights_lm[i*3+1]*year + weights_lm[i*3+2]*year*year)\n",
        "\n",
        "cost_wear = 9\n",
        "cost_lm = 99\n",
        "show_glove_add = wear*cost_wear >= learn_mat*cost_lm\n",
        "age_groups = ['16-24', '25-34', '35-44', '45-54', '55-64']\n",
        "\n",
        "print(['16-24', '25-34', '35-44', '45-54', '55-64'])\n",
        "print(show_glove_add)\n"
      ],
      "execution_count": null,
      "outputs": [
        {
          "output_type": "stream",
          "text": [
            "['16-24', '25-34', '35-44', '45-54', '55-64']\n",
            "[ True False  True False  True]\n"
          ],
          "name": "stdout"
        }
      ]
    },
    {
      "cell_type": "markdown",
      "metadata": {
        "id": "cj6U_c9Ns4gn",
        "colab_type": "text"
      },
      "source": [
        "**Exercise 2.8** Google Colab handily provides some classical data to experiment with. One of these datasets is [Anscombe's queartet](https://en.wikipedia.org/wiki/Anscombe%27s_quartet). Using linear regression fit a straight line through each of the four data sets and draw four graphs. You will have to prepare the data first. An example, of how I would do it is given bellow! Do you get the fit similar to the ones in Wikipedia page?"
      ]
    },
    {
      "cell_type": "code",
      "metadata": {
        "id": "ZlHKLQ7YtHVZ",
        "colab_type": "code",
        "colab": {}
      },
      "source": [
        "import json\n",
        "with open('sample_data/anscombe.json') as f:\n",
        "  data = json.load(f)\n",
        "print(data)\n",
        "\n",
        "x_I = []\n",
        "y_I = []\n",
        "\n",
        "for i in data:\n",
        "  if i['Series'] == 'I':\n",
        "    x_I += [i['X']]\n",
        "    y_I += [i['Y']]"
      ],
      "execution_count": null,
      "outputs": []
    },
    {
      "cell_type": "markdown",
      "metadata": {
        "id": "-ImHs4V0zpwK",
        "colab_type": "text"
      },
      "source": [
        "**Exercise 2.9** This is an exercise in creating models for supervised learning. In the following 80 point data set there is an inflection point with x coordinate $\\theta$. So parameters for this model should be $\\theta$ in addition to those for the two lines. Create and fit a model for this data set to estimate the $\\theta$. You can use Linear Regression for this if you want. This is quite a hard exercise - be careful not to fit two separate lines! Here is an illustration for this data set:"
      ]
    },
    {
      "cell_type": "markdown",
      "metadata": {
        "id": "9M5xoFJl0z60",
        "colab_type": "text"
      },
      "source": [
        "![image.png](data:image/png;base64,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)"
      ]
    },
    {
      "cell_type": "code",
      "metadata": {
        "id": "Oj_H_m0SydWU",
        "colab_type": "code",
        "colab": {}
      },
      "source": [
        "x_sample = [3.21, 4.26, 3.18, 2.66, 4.65, 2.12, 4.2, 1.34, 2.65, 3.94, 2.12, 3.7, 3.97, 2.4, 4.57, 3.2, 2.8, 2.43, 3.23, 1.19, 3.02, 4.43, 4.28, 1.13, 1.72, 1.74, 4.28, 4.58, 2.94, 4.24, 4.83, 1.96, 4.19, 1.4, 4.23, 2.68, 1.11, 1.06, 3.29, 4.81, 2.86, 3.53, 1.99, 1.67, 2.75, 3.58, 3.97, 4.67, 4.78, 4.07, 3.17, 1.93, 2.16, 3.62, 2.14, 1.75, 3.35, 2.08, 1.1, 2.09, 3.05, 4.19, 1.31, 2.18, 4.09, 3.03, 3.47, 3.03, 2.02, 1.54, 2.87, 1.5, 4.79, 1.83, 3.0, 1.76, 2.12, 3.84, 4.25, 2.55]\n",
        "y_sample = [-0.29, 1.15, -0.97, -0.28, 2.6, -0.1, 1.28, -0.94, -0.7, 1.03, -0.05, 0.69, 1.07, -0.39, 1.86, -0.75, 0.31, 0.3, -0.46, -1.12, -0.38, 2.11, 1.36, -1.36, -0.5, -0.83, 1.86, 2.23, -0.15, 1.81, 2.07, -0.83, 2.14, -1.06, 1.92, -0.12, -0.3, -0.72, 0.66, 1.99, -0.09, 0.99, -0.43, -0.36, -0.37, 1.66, 0.92, 2.31, 2.21, 1.27, -0.41, -0.79, -0.1, 0.51, -0.82, -0.12, 0.01, 0.25, -0.99, -0.79, -0.23, 1.85, -0.57, 0.02, 1.24, 0.13, -0.03, -0.16, 0.11, -0.25, -0.62, -0.42, 2.38, -1.26, -0.07, -0.5, -0.19, 0.97, 0.78, 0.13]"
      ],
      "execution_count": null,
      "outputs": []
    }
  ]
}