{
  "nbformat": 4,
  "nbformat_minor": 0,
  "metadata": {
    "colab": {
      "name": "Part 2: Fitting models.ipynb",
      "provenance": [],
      "collapsed_sections": [],
      "toc_visible": true,
      "authorship_tag": "ABX9TyO5ycEpHC7J3dX65Uf0s0QO"
    },
    "kernelspec": {
      "name": "python3",
      "display_name": "Python 3"
    }
  },
  "cells": [
    {
      "cell_type": "markdown",
      "metadata": {
        "id": "SLedDE0mJCbU",
        "colab_type": "text"
      },
      "source": [
        "# Part 1: Fitting models\n",
        "\n",
        "Math secretly has developed a lot of useful methods and ideas to work with numbers. The key is to become literate enough in both Math and Computer Science to apply it to real world data. This notebook will help you develop this literacy by learning how mathematical models can be *fitted* to data and how simple inferences can be made."
      ]
    },
    {
      "cell_type": "markdown",
      "metadata": {
        "id": "5Kshcz4tNH5c",
        "colab_type": "text"
      },
      "source": [
        "## Generative models\n",
        "\n",
        "Sometimes in the world you are presented with lots of one type of data. For instance, how many letters arrive in your email per day, how much time elapses between subsequent busses in a bus stop. According to this data you might have to make some decisions like how much time to dedicate each day to reading your inbox and how much more you need to wait in a bus stop. If you are running a bussiness, analogous decisions become more important and thus should be informed by data.\n",
        " \n",
        "Lets start with a simple example. This is a data set of how many emails I got per day for 10 different days. (How many of them were important is another question...)"
      ]
    },
    {
      "cell_type": "code",
      "metadata": {
        "id": "41k7-EK-T797",
        "colab_type": "code",
        "colab": {}
      },
      "source": [
        "# import useful packages \n",
        "import numpy as np\n",
        "import math\n",
        "import matplotlib.pyplot as plt\n",
        "\n",
        "# initialise data list\n",
        "xs = [5, 6, 10, 2, 7, 3, 1, 1, 2, 1]"
      ],
      "execution_count": null,
      "outputs": []
    },
    {
      "cell_type": "markdown",
      "metadata": {
        "id": "z0ZP7Nc9Tml6",
        "colab_type": "text"
      },
      "source": [
        "This data is quite simple. It does not have any response variable - for instance how many minutes I spent looking through my emails that day. Analysis you do on this type of data is called *unupervised machine learning*. Using this data we can find patterns. In particular, with this dataset we will explore the question of how many emails I can expect to get in the future. \n",
        "\n",
        "A particular kind of interesting patterns data scientist often look for are clusters. Often the data you are looking at contains measurements from multiple groups mixed together. The more data there is the harder it is for human scientist to find the boundaries between groups. Generative modelling can deal with it and furthermore tell us how \"confident\" we should be about the generated boundaries. \n",
        "\n"
      ]
    },
    {
      "cell_type": "markdown",
      "metadata": {
        "id": "2iwxKf-zaMN-",
        "colab_type": "text"
      },
      "source": [
        "### First step\n",
        "\n",
        "In the meantime, lets back to the simple email example. \n",
        "\n",
        "We will call our random variable $X$ and it represents how many letters I got in a day.\n",
        "\n",
        "The model we can try to fit to this data is Poisson distribution. You can read more about it [here](https://en.wikipedia.org/wiki/Poisson_distribution). The most important thing is its probability mass function which can be expressed as:\n",
        "\n",
        "$$ Pr_X(x) = \\frac{\\lambda ^x e^{-\\lambda}}{x!}$$\n",
        "\n",
        "$\\lambda$ is the unknow parameter that we want to estimate to know how likely are future values of $X$. If you actually opened the link, you might notice that $\\lambda$ has to be greater than zero. This is an important constraint that we will return to later! \n",
        "\n",
        "I will write the probability mass function to make explicit the fact that $x$ depends on  $\\lambda$:\n",
        "\n",
        "$$ Pr_X(x|\\lambda) = \\frac{\\lambda ^x e^{-\\lambda}}{x!}$$\n",
        "\n",
        "You should read that as the probability of a particular value of $x$ given $\\lambda$. \"|\" symbol does not denote conditional probability but it is a common notation to express dependency.\n",
        "\n",
        "We will view the entire data set `xs` as independent samples generated from this distribution.\n",
        "\n",
        "To summarise this step, we need to pick a model (in our case, a distribution) with some tunable parameters that we will fit to the data. Also, we need to check and keep in mind the constraints.\n",
        "\n",
        "#### Aside: Why the constaints are important?\n",
        "\n",
        "The probability mass function expression might still have values when parameters like $\\lambda$ do not obey the constraints. When it comes time to report the results of your analysis, you will have to explain why the model you choose makes sense. For instance, Poisson model has an interpretation that it closely models the number of independant events over an interval. So, we will have no problem defending this choice for emails. However, if we get a value of $\\lambda$ that does not obey Poisson constraints, we cannot with clean conscience use mathematical results to support our model choice. Without the constraints, we are dealing with a totally different class of functions!\n"
      ]
    },
    {
      "cell_type": "markdown",
      "metadata": {
        "id": "b0HYsPyGbKm2",
        "colab_type": "text"
      },
      "source": [
        "### Second step \n",
        "\n",
        "Now we need a function to calculare the likelihood of particular value of $\\lambda$ given our data set. This is the same as plugin in $\\lambda$  into our model and seeing how probable our dataset becomes.\n",
        "\n",
        "$$lik(\\lambda | x_1, ..., x_{10}) = Pr(x_1, ..., x_{10} | \\lambda)$$\n",
        "\n",
        "By the assumption that samples are independent, we can conclude:\n",
        "\n",
        "$$Pr(x_1, ..., x_{10} | \\lambda) = Pr_X(x_1 | \\lambda) \\times ... \\times Pr_X(x_{10} | \\lambda)$$\n",
        "\n",
        "At this point your inner alarm bells should be ringing - probabilities tend to be quite small numbers and we are multiplying a bunch of them together. So to be safe, lets bring our trusted tool - the logarithm $\\dagger$:\n",
        "\n",
        "$$log(lik(\\lambda | x_1, ..., x_{10})) = log(Pr_X(x_1 | \\lambda) \\times ... \\times Pr_X(x_{10} | \\lambda)) = log(Pr_X(x_1 | \\lambda)) + ... + log(Pr_X(x_{10} | \\lambda))$$ \n",
        "\n",
        "Our ultimate goal is to find the value for $\\lambda$ that maximises the data sets likelihood. So using logarithm is OK as it is *monotonic* (i.e. we will still be able to distinguish higher likelihood value from the smaller one).\n",
        "\n",
        "Using the rules of logarithm we can simplify the probability mass function $Pr_X(x|\\lambda)$:\n",
        "\n",
        "$$log(Pr_X(x|\\lambda)) = log(\\frac{\\lambda ^x e^{-\\lambda}}{x!}) = x \\times log(\\lambda) - \\lambda - log(x!)$$\n",
        "\n",
        "Thus, in this step we use independence assumption to find an expression for the log likelihood of our unknown parameters.\n",
        "\n",
        "We can now write down likelihood function programatically."
      ]
    },
    {
      "cell_type": "code",
      "metadata": {
        "id": "OfNFAURhgsuj",
        "colab_type": "code",
        "colab": {}
      },
      "source": [
        "def fact(x):\n",
        "  if x == 1:\n",
        "    return x\n",
        "  return x * fact(x-1)\n",
        "\n",
        "def logPr_X(x, l): #l stands for lamda\n",
        "  return x * math.log(l) - l - math.log(fact(x))\n",
        "\n",
        "def loglik(l): # l - lambda, xs - our data set\n",
        "  prx = [logPr_X(x,l) for x in xs] # xs is defined globaly - do not need to pass it as an argument\n",
        "  return sum(prx) # return the sum of all log(Pr_X)'s"
      ],
      "execution_count": null,
      "outputs": []
    },
    {
      "cell_type": "markdown",
      "metadata": {
        "id": "C9CmMjGLc1uk",
        "colab_type": "text"
      },
      "source": [
        "### Third step\n",
        "\n",
        "We can now find the $\\lambda$ that maximises the log likelihood expression. We can use calculus for that - find derivative and so on. But we can also use Computer Science. In particular we can use a function `scipy.optimize.fmin`. It takes a function with $n$ arguments and an initial guess (a list of size $n$) and returns the values for those arguments that minimise the function (also a list of size $n$). \n",
        "You might be confused - why would we want to minimise the function. Sadly, there is no `fmax` function, so we will maximise our log-likelihood function by taking its negative value. \n",
        "\n",
        "This is also the point where we bring our constraints associated with the model. `fmin` minimises the parameters over real numbers. But we need that $\\lambda$ be in $(0; \\infty)$. How good would it be to have a function that converts between real numbers and positive numbers which preserves ordering...\n",
        "\n",
        "I am sure that at this point you are screaming at the screen '*Exponential!*'.\n",
        "\n",
        "To use it, firstly we need to introduce temporary parameter $t$ that we will actually be using `fmin` with. Then we express $\\lambda$ in terms of it:\n",
        "\n",
        "$$\\lambda = e^t$$\n",
        "\n",
        "We will use when defining a helper function and then to recover the final result.\n",
        "\n",
        "Word of caution: `fmin` is not a panacea, it can get stuck in local minima so give it a good initial guess if you can. \n",
        "\n",
        "Summary of this step: use numerical optimisation techniques to find values for parameters that maximise the likelihood. Remember to apply constraints."
      ]
    },
    {
      "cell_type": "code",
      "metadata": {
        "id": "xhDYuj7hjwLv",
        "colab_type": "code",
        "colab": {
          "base_uri": "https://localhost:8080/",
          "height": 102
        },
        "outputId": "1e8856c5-9343-4d21-f8cd-4b15385ebce9"
      },
      "source": [
        "import scipy.optimize\n",
        "\n",
        "def f(t):\n",
        "  l = math.exp(t)\n",
        "  return -loglik(l)\n",
        "\n",
        "initial_guess = 2\n",
        "\n",
        "t = scipy.optimize.fmin(f, initial_guess)\n",
        "\n",
        "λ = math.exp(t)\n",
        "print(λ)"
      ],
      "execution_count": null,
      "outputs": [
        {
          "output_type": "stream",
          "text": [
            "Optimization terminated successfully.\n",
            "         Current function value: 25.444330\n",
            "         Iterations: 15\n",
            "         Function evaluations: 30\n",
            "3.7998475119767394\n"
          ],
          "name": "stdout"
        }
      ]
    },
    {
      "cell_type": "markdown",
      "metadata": {
        "id": "9TzYixwxmXyf",
        "colab_type": "text"
      },
      "source": [
        "### Overview\n",
        "\n",
        "You just fitted a model! Having learned the hidden parameter you can draw further inferences. The graph of the probability mass function looks pretty much right - majority of our samples is in the left side of the range where there is more probability mass."
      ]
    },
    {
      "cell_type": "code",
      "metadata": {
        "id": "mF_4KRoym6Gk",
        "colab_type": "code",
        "colab": {
          "base_uri": "https://localhost:8080/",
          "height": 279
        },
        "outputId": "1be3784e-22be-47c9-ffa0-304ea3235658"
      },
      "source": [
        "step = [i + 1 for i in range(10)]\n",
        "poisson = [math.exp(logPr_X(i, λ)) for i in step]\n",
        "\n",
        "fig, ax = plt.subplots()\n",
        "jitter_y = np.random.uniform(low=-0.01, high=0.01, size=len(xs))\n",
        "ax.axhline(y=0, color='orange', linewidth='2')\n",
        "ax.scatter(xs, jitter_y, marker='+')\n",
        "ax.plot(step, poisson, marker='*')\n",
        "\n",
        "ax.set(xlabel='x', ylabel='Pr_X')\n",
        "ax.grid()\n",
        "\n",
        "\n",
        "plt.show()"
      ],
      "execution_count": null,
      "outputs": [
        {
          "output_type": "display_data",
          "data": {
            "image/png": "[encoded data removed]",
            "text/plain": [
              "<Figure size 432x288 with 1 Axes>"
            ]
          },
          "metadata": {
            "tags": [],
            "needs_background": "light"
          }
        }
      ]
    },
    {
      "cell_type": "markdown",
      "metadata": {
        "id": "EdQyp7WgtmAO",
        "colab_type": "text"
      },
      "source": [
        "### More Advanced Example\n",
        "\n",
        "That was cool, lets do it again! This time we will try to find clusters in a data using Gaussian Mixture Model.\n",
        "\n",
        "Lets get acquainted with the data. Here are test scores of 82 students. Clusters in this dataset might indicate that there exist some teaching/learning disparities. Lets investigate it further! "
      ]
    },
    {
      "cell_type": "code",
      "metadata": {
        "id": "y9lTTLiV0CVM",
        "colab_type": "code",
        "colab": {}
      },
      "source": [
        " scores = [\n",
        " 91, 93, 94, 95, 97, 102, 104, 160, 161, 184, 185, 186, 189,\n",
        " 190, 190, 193, 193, 193, 194, 194, 195, 195, 195, 196, 198,\n",
        " 198, 198, 199, 199, 199, 199, 201, 201, 201, 201, 202, 202,\n",
        " 204, 206, 207, 208, 208, 208, 209, 211, 214, 217, 218, 219,\n",
        " 219, 221, 222, 222, 222, 223, 223, 224, 227, 227, 228, 229,\n",
        " 232, 232, 232, 234, 235, 235, 236, 237, 237, 241, 242, 242,\n",
        " 243, 247, 249, 256, 266, 269, 320, 327, 342]"
      ],
      "execution_count": null,
      "outputs": []
    },
    {
      "cell_type": "markdown",
      "metadata": {
        "id": "D7_4A_1h2B_b",
        "colab_type": "text"
      },
      "source": [
        "**Exercise 2.1** Get acquainted with the data. Your first task is to plot the data points on an axis (similarly to the plot above). Here is the code to get you started (you might also want to pass `alpha=0.6` parameter to `scatter` function). How many clusters do you expect?"
      ]
    },
    {
      "cell_type": "code",
      "metadata": {
        "id": "Uw-xuYh12lZK",
        "colab_type": "code",
        "colab": {}
      },
      "source": [
        "fig, ax = plt.subplots(figsize = (8,0.3))\n",
        "jitter_y = # create random jitter in y direction - it will be easear to see the point \n",
        "# use ax.scatter to paint the points\n",
        "\n",
        "plt.show()"
      ],
      "execution_count": null,
      "outputs": []
    },
    {
      "cell_type": "markdown",
      "metadata": {
        "id": "wlVinII_1Z4R",
        "colab_type": "text"
      },
      "source": [
        "### First step\n",
        "\n",
        "The model we are going to fit assumes that we are looking into multiple groups mixed together - each with their characteristic Normal (Gaussian) distribution. We will try to identify three clusters (this choice is somewhat arbitrary, you will explore different choices in a later exercise).\n",
        "\n",
        "The model depends on nine parameters:\n",
        "*   $p_1$ - probability that the sample belongs to cluster 1 \n",
        "*   $m_1$ - mean of the 1st cluster's normal (\"normal\" is short for \"normal distribution\")\n",
        "*   $s_1$ - standard deviation of the 1st cluster's normal\n",
        "\n",
        "And similarly $p_2$, $m_2$, $s_2$, $p_3$, $m_3$, $s_3$.\n",
        "\n",
        "The probability density is thus the probability that $x$ belongs to cluster 1 or to cluster 2 or to cluster 3:\n",
        "\n",
        "$Pr_X(x | p_1,m_1,s_1,p_2,m_2,s_2,p_3,m_3,s_3) \n",
        "= P(x$ belongs to cluster 1$) + P(x$ belongs to cluster 2$) + P(x$ belongs to cluster 3$) = p_1\\times Pr_{Normal}(x | m_1, s_1) + p_2\\times Pr_{Normal}(x | m_2, s_2) + p_3\\times Pr_{Normal}(x | m_3, s_3)$\n",
        "\n",
        "Here $Pr_{Normal}$ is just probability density of a normal distribution:\n",
        "\n",
        "$$Pr_{Normal}(x | \\mu, \\sigma) = \\frac{1}{\\sqrt{2\\pi \\sigma^2}}exp(\\frac{-(x-\\mu)^2}{2\\sigma^2})$$\n",
        "\n",
        "Just don't forget about constraints!\n",
        "\n",
        "$$p_1, p_2, p_3 \\in [0; 1]$$\n",
        "$$p_1 + p_2 + p_3 = 1$$\n",
        "$$s_1, s_2, s_3 \\in [0; \\infty)$$\n",
        "\n",
        "**Exercise 2.2** Write down the function for $log(Pr_X(x | p_1,p_2,p_3,m_1,m_2,m_3,s_1,s_2,s_3))$. The parameters are given in a list L. For normal distribution density you can use Pr_N(x, m, s) function that I have handily provided! "
      ]
    },
    {
      "cell_type": "code",
      "metadata": {
        "id": "r8mfkmdmixVO",
        "colab_type": "code",
        "colab": {}
      },
      "source": [
        "import scipy.stats\n",
        "Pr_N = scipy.stats.norm.pdf\n",
        "\n",
        "def logPr_X(x, L):\n",
        "  [p1, p2, p3, m1, m2, m3, s1, s2, s3] = L\n",
        "  return np.log(p1 * Pr_N(x, m1, s1) + p2 * Pr_N(x, m2, s2) + p3 * Pr_N(x, m3, s3))"
      ],
      "execution_count": null,
      "outputs": []
    },
    {
      "cell_type": "markdown",
      "metadata": {
        "id": "VlEIzLVYPL_G",
        "colab_type": "text"
      },
      "source": [
        "### Second Step\n",
        "\n",
        "Time to express our log likelihood function! \n",
        "\n",
        "**Exercise 2.3** Write a function for log likelihood of the parameters (given as a list L like in the function `logPr_X`)."
      ]
    },
    {
      "cell_type": "code",
      "metadata": {
        "id": "i029IdnxP2BF",
        "colab_type": "code",
        "colab": {}
      },
      "source": [
        "def loglik(L):\n",
        "  prs = logPr_X(scores, L)\n",
        "  return np.sum(prs)"
      ],
      "execution_count": null,
      "outputs": []
    },
    {
      "cell_type": "markdown",
      "metadata": {
        "id": "LsW6TN6LQ_tp",
        "colab_type": "text"
      },
      "source": [
        "### Third step\n",
        "\n",
        "We can now use numerical optimisation to estimate the parameters for the distribution.\n",
        "\n",
        "As you know, this is the point that constraints come in. I am sure that you will be able to deal with $s_1, s_2, s_3$ now, but what about $p_1, p_2, p_3$?\n",
        "\n",
        "Firstly for $p_i \\in [0; \\infty)$ we can bring back our good friend exponential and a new temporary variable $q_i$. Then set:\n",
        "\n",
        "$$p_i = \\frac{e^{q_i}}{e^{q_i} + 1}$$\n",
        "\n",
        "Then when $q_i$ is a very big number, then the denomerator becomes only slithly bigger then numerator, so $p_i$ gets very close to $1$ - and never greater than $1$.\n",
        "\n",
        "Conversely, when $q_i$ is a very big negative number, $e_{q_i}$ becomes a very small positive number. \n",
        "\n",
        "$$p_i = \\frac{e^{-\\infty}}{e^{-\\infty} + 1} \\approx \\frac{0}{0+1} \\approx 0$$\n",
        "\n",
        "So we are good! \n",
        "\n",
        "For the sum constraint $p_1 + p_2 + p_3 = 1$ we can express one of $p_i$ in terms of others, like so:\n",
        "\n",
        "$$p_3 = 1 - p_1 - p_2 = 1 - \\frac{e^{q_1}}{e^{q_1} + 1} - \\frac{e^{q_2}}{e^{q_2} + 1}$$\n",
        "\n",
        "However, right now $p_3$ can become negative, so we will need to readjust $p_1$ and $p_2$, but the idea remains the same:\n",
        "\n",
        "$$p_1 = \\frac{e^{q_1}}{e^{q_1} + e^{q_2} + 1}$$\n",
        "\n",
        "$$p_2 = \\frac{e^{q_2}}{e^{q_1} + e^{q_2} + 1}$$\n",
        "\n",
        "$$p_3 = \\frac{1}{e^{q_1} + e^{q_2} + 1}$$\n",
        "\n",
        "The task now is to correctly express it for numerical optimisation!\n",
        "\n",
        "**Exercise 2.4** Write a function f(T) where T is a list of parameters `[q1, q2, m1, m2, m3, t1, t2, t3]` that expresses the function we are trying to minimise using `loglik` function defined earlier. When the optimisation terminates recover the formal parameters from the temporary ones."
      ]
    },
    {
      "cell_type": "code",
      "metadata": {
        "id": "-RS9FsZsUg--",
        "colab_type": "code",
        "colab": {
          "base_uri": "https://localhost:8080/",
          "height": 84
        },
        "outputId": "5bddd5ee-39fa-4bd2-f997-1c00c7a77621"
      },
      "source": [
        "def f(T):\n",
        "  [q1, q2, m1, m2, m3, t1, t2, t3] = T\n",
        "  a = np.exp(q1)\n",
        "  b = np.exp(q2)\n",
        "  p1 = a/(a + b + 1)\n",
        "  p2 = b/(a + b + 1)\n",
        "  p3 = 1/(a + b + 1)\n",
        "  s1 = np.exp(t1)\n",
        "  s2 = np.exp(t2)\n",
        "  s3 = np.exp(t3)\n",
        "  L = [p1, p2, p3, m1, m2, m3, s1, s2, s3]\n",
        "  return -loglik(L)\n",
        "\n",
        "initial_guess = [-1,-1, 100,200,240, math.log(10),math.log(50),math.log(80)]\n",
        "\n",
        "t = scipy.optimize.fmin(f, initial_guess, maxiter=4000)\n",
        "\n",
        "# Recover formal parameters:\n",
        "[q1, q2, m1, m2, m3, t1, t2, t3] = t\n",
        "a = np.exp(q1)\n",
        "b = np.exp(q2)\n",
        "p1 = a/(a + b + 1)\n",
        "p2 = b/(a + b + 1)\n",
        "p3 = 1/(a + b + 1)\n",
        "s1 = np.exp(t1)\n",
        "s2 = np.exp(t2)\n",
        "s3 = np.exp(t3)\n",
        "\n",
        "L = [p1, p2, p3, m1, m2, m3, s1, s2, s3]"
      ],
      "execution_count": null,
      "outputs": [
        {
          "output_type": "stream",
          "text": [
            "Optimization terminated successfully.\n",
            "         Current function value: 392.246314\n",
            "         Iterations: 1087\n",
            "         Function evaluations: 1613\n"
          ],
          "name": "stdout"
        }
      ]
    },
    {
      "cell_type": "markdown",
      "metadata": {
        "id": "XyqU4fMBBPRY",
        "colab_type": "text"
      },
      "source": [
        "Time to generate the final graph and think what the results mean. Maybe the students in the different groups belong to different schools, different social groups, what causes the difference in test performance - there are a lot of questions that could follow your analysis! \n",
        "\n",
        "**Exercise 2.5** Generate the graph for the probability distribution. Use your code from earlier to add the data-points to the graph. This is the graph that I get:"
      ]
    },
    {
      "cell_type": "markdown",
      "metadata": {
        "id": "t2FYtdGnCSuU",
        "colab_type": "text"
      },
      "source": [
        "![image.png](data:image/png;base64,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)"
      ]
    },
    {
      "cell_type": "code",
      "metadata": {
        "id": "KSEyZB7a_Efx",
        "colab_type": "code",
        "colab": {
          "base_uri": "https://localhost:8080/",
          "height": 265
        },
        "outputId": "9d518ce8-9f16-4985-896f-6333ee174280"
      },
      "source": [
        "fig, ax = plt.subplots()\n",
        "x = np.linspace(60,360,200)\n",
        "y = np.exp(logPr_X(x, L))\n",
        "ax.plot(x, y)\n",
        "jitter_y = np.random.uniform(low = 0, high=0.0005, size=len(scores))\n",
        "ax.scatter(scores, jitter_y, marker=\"*\", alpha=0.6)\n",
        "\n",
        "plt.show()"
      ],
      "execution_count": null,
      "outputs": [
        {
          "output_type": "display_data",
          "data": {
            "image/png": "[encoded data removed]",
            "text/plain": [
              "<Figure size 432x288 with 1 Axes>"
            ]
          },
          "metadata": {
            "tags": [],
            "needs_background": "light"
          }
        }
      ]
    },
    {
      "cell_type": "markdown",
      "metadata": {
        "id": "sq3ejIZlDfT8",
        "colab_type": "text"
      },
      "source": [
        "**Exercise 2.6** Use the same `scores` data set to fit Gaussian mixture model with either 2 or 4 (you choose!) clusters. Which model is a better fit - the 3-cluster model or your model? How do you know?"
      ]
    },
    {
      "cell_type": "markdown",
      "metadata": {
        "id": "TT9u2DuOJvdX",
        "colab_type": "text"
      },
      "source": [
        "## Supervised learning and linear regression\n",
        "\n",
        "https://osp.stat.gov.lt/statistiniu-rodikliu-analize?indicator=S4R125#/\n"
      ]
    }
  ]
}