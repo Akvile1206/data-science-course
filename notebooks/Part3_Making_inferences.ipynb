{
  "nbformat": 4,
  "nbformat_minor": 0,
  "metadata": {
    "colab": {
      "name": "Part3: Making inferences.ipynb",
      "provenance": [],
      "authorship_tag": "ABX9TyMbtTF+N5fTCBqVFF+x8uP6"
    },
    "kernelspec": {
      "name": "python3",
      "display_name": "Python 3"
    }
  },
  "cells": [
    {
      "cell_type": "markdown",
      "metadata": {
        "id": "p39zHw-L04yd",
        "colab_type": "text"
      },
      "source": [
        "# Part 3: Making inferences\n",
        "\n",
        "In the previous part, when we fitted models to the data, we (implicitly) assumed that the hidden parameters exists somewhere out there in the world and we try to find them. For instance, suppose we are flipping a biased coin.\n",
        "\n",
        "After 4 flips let's say that the coin landed heads 3 times and tails 1 time. Using maximum likelihood estimation, we would find that parameter p (probability of tails) is 0.25. Remember from last part: we just note the parameter and then do some Computer Science to find. \n",
        "\n",
        "But we are about to turn this view upside down using a Bayes theorem. We will view the parameters themselves as random variables! If we then find the distribution for it, we can then talk about the probability - the confidence -  that the parameters are of certain values. So if our parameters are distributions, then our models are distributions of distributions - this is definitely meta! But we will get to it in due time.\n",
        "\n",
        "I mentioned confidence. But what is it? Suppose we repeat the experiment above, but this time we flip the coin 100 times out which 25 are tails. We would get the same maximum likelihood estimator for p - 0.25. But in this case we are more *confindent* that we are close to the right value and it is not just fluctuations in the matrix. We will learn how to quantify it later on in this section.\n",
        "\n",
        "Before we begin, let's prepare the environment with some useful imports:\n",
        "\n"
      ]
    },
    {
      "cell_type": "code",
      "metadata": {
        "id": "dDpCmGAZC-Qy",
        "colab_type": "code",
        "colab": {}
      },
      "source": [
        "import math\n",
        "import numpy as np\n",
        "import matplotlib.pyplot as plt\n",
        "import scipy.stats"
      ],
      "execution_count": null,
      "outputs": []
    },
    {
      "cell_type": "markdown",
      "metadata": {
        "id": "EJ2WOkzW6f0K",
        "colab_type": "text"
      },
      "source": [
        "## Expected Value\n",
        "\n",
        "You need to get used to the idea that in this section we will not get a single nice value for parameters but rather a probability density for possible values. The issue now becomes how do we report some meaningful numbers from our analysis? For this we have to go back to mathematicians and see what they have figured out.\n",
        "\n",
        "A simple probability distribution statistics we can use is **Expected value**. It is an average of the random variable but it is weighted by the probability of any particular value. Formally, it is just a sum over all possible values multiplied by their respective probabilities.  \n",
        "\n",
        "$$E[X] = \\Sigma^n_{i=1}p_i\\times x_i =p_1x_1 + p_2x_2 ... + p_nx_n $$\n",
        "\n",
        "Notice the notation: expected value is denoted $E$ and in square brackets we put the random variable we are interested in.\n",
        "\n",
        "Example: Let $X$ be our random variable which is taken from $Poisson(\\lambda = 4)$ distribution. What is $E[X]$? \n",
        "\n",
        "Firstly, we can look at the definition of this distribution to figure out the probability for a given value of $X$.\n",
        "$$Pr_x(x) = \\frac{\\lambda^xe^{-\\lambda}}{x!} = \\frac{4^xe^{-4}}{x!}$$\n",
        "\n",
        "Our sum in this case would be infinite because $X$ values can vary from 0 to infinity, but since we have factorial in the denominator, we know that large values for $X$ are very very unlikely. So to estimate $E[X]$ we will sum the first 15 values for $X$. "
      ]
    },
    {
      "cell_type": "code",
      "metadata": {
        "id": "sfwgrI6m-yIr",
        "colab_type": "code",
        "colab": {
          "base_uri": "https://localhost:8080/",
          "height": 34
        },
        "outputId": "f375c847-12be-4286-8299-a1f739cb7a36"
      },
      "source": [
        "E_X = 0\n",
        "\n",
        "for x in range(15):\n",
        "  E_X += scipy.stats.poisson.pmf(x, 4)*x\n",
        "\n",
        "E_X"
      ],
      "execution_count": null,
      "outputs": [
        {
          "output_type": "execute_result",
          "data": {
            "text/plain": [
              "3.9996946863386253"
            ]
          },
          "metadata": {
            "tags": []
          },
          "execution_count": 2
        }
      ]
    },
    {
      "cell_type": "markdown",
      "metadata": {
        "id": "nvpXgave_Yze",
        "colab_type": "text"
      },
      "source": [
        "We get that the expected $X$ is very close to $4$ which is our $\\lambda$. That is consistent with the mathematical results for this distribution.\n",
        "\n",
        "Expected value represents the value that we are most likely to get *on average* if we draw a sample from the distribution.\n",
        "\n",
        "Expected value might not even be a possible value. Consider random variable $M$. Let it be the amount of money you get in the following one time game: at the start of the game you toss a fair coin, if the coin lands heads your friend pays you 1 dollar, if the coin lands tails you pay your friend 1 dollar. Simples!\n",
        "\n",
        "So the possible values for $M$ after the game are $-1$ or $1$ and the probabilities of each:\n",
        "\n",
        "$Pr_M(m=-1) = \\frac{1}{2}$ and $Pr_M(m=1) = \\frac{1}{2}$\n",
        "\n",
        "So the expected value: $E[M] = \\frac{1}{2}\\times -1 + \\frac{1}{2} \\times 1 = 0$\n",
        "\n",
        "So on average, you are neither better of or worse of playing this game. That is, if you were to play it multiple times, you are likely to have the same amount of money as when you started.\n",
        "\n",
        "What to do if the random variable is continous? This means there are infinite values it can take over some interval, so we cannot just use sums. What the mathematicians do in this case is integrate, but we will compute!\n",
        "\n",
        "Expected value could be seen as the average result of repeatedly engaging in the experiment. This makes sense intuitively: the more likely a particular value is the more it will appear in our sample and so will draw the average towards itself! Furthermore, this suggest the computation method that we can use. Just draw a bunch of samples and average them!\n",
        "\n",
        "$$E[X] \\approx \\frac{1}{n}\\Sigma^n_{i=1}x_i$$\n",
        "\n",
        "Let's pick a nifty continous distribution to see how it works. I will use $Beta(2,5)$ for this example. "
      ]
    },
    {
      "cell_type": "code",
      "metadata": {
        "id": "GZjESfX6CwTv",
        "colab_type": "code",
        "colab": {
          "base_uri": "https://localhost:8080/",
          "height": 282
        },
        "outputId": "0c3a6932-91fd-47d4-c3d3-e19c04625e5a"
      },
      "source": [
        "# Firstly let's plot the distribution to get a better feel for it\n",
        "fig, ax = plt.subplots(1, 1)\n",
        "a, b = 2, 5 # Parameters of the distribution\n",
        "Beta = scipy.stats.beta.pdf\n",
        "x = np.linspace(0, 1, 100)\n",
        "ax.plot(x,Beta(x,a,b))\n",
        "plt.show()\n",
        "\n",
        "# Let's take a lot of samples from it:\n",
        "samples = np.random.beta(a,b, size=10000) # returns a numpy array of size 100000 with the sampled values\n",
        "expected = np.average(samples)\n",
        "expected"
      ],
      "execution_count": null,
      "outputs": [
        {
          "output_type": "display_data",
          "data": {
            "image/png": "[encoded data removed]",
            "text/plain": [
              "<Figure size 432x288 with 1 Axes>"
            ]
          },
          "metadata": {
            "tags": [],
            "needs_background": "light"
          }
        },
        {
          "output_type": "execute_result",
          "data": {
            "text/plain": [
              "0.2882036199670124"
            ]
          },
          "metadata": {
            "tags": []
          },
          "execution_count": 3
        }
      ]
    },
    {
      "cell_type": "markdown",
      "metadata": {
        "id": "X_l2EEidDo1G",
        "colab_type": "text"
      },
      "source": [
        "That looks about right and hopefully you can see why expected value is a neat thing to calculate."
      ]
    },
    {
      "cell_type": "markdown",
      "metadata": {
        "id": "tLYgAxfVD3mG",
        "colab_type": "text"
      },
      "source": [
        "## Confidence interval\n",
        "\n",
        "Time to define confidence interval in more detail. As the name suggests it has two parts - the interval and its confidence (i.e. a probability). A common way to write it is:\n",
        "\n",
        "$$\\mathbb{P}(Y \\in [lo; hi]) = c$$\n",
        "\n",
        "$lo$ and $hi$ are the bounds for the interval and $c$ is the confidence often expressed as a percentage. For instace, we could have:\n",
        "\n",
        "$$\\mathbb{P}(Y \\in [3; 4]) = 95\\%$$\n",
        "\n",
        "This means that the probability that a sample drawn from $Y$ being between $3$ and $4$ is 0.95. Or we also say that $95$ percent confidence interval for $Y$ is $[3;4]$. \n",
        "\n",
        "How do we find such interval?\n",
        "One thing we can notice, is that it is much easier to find probabilities of the form:\n",
        "$$\\mathbb{P}(Y \\leq k) = p$$\n",
        "\n",
        "So if we could find $k$ and $l$ such that:\n",
        "\n",
        "$\\mathbb{P}(Y \\leq k) = 2.5\\%$ and $\\mathbb{P}(Y \\leq l) = 97.5\\%$ (i.e. $\\mathbb{P}(Y > l) = 2.5\\%$)\n",
        "\n",
        "We would know that everything that lies in between $k$ and $l$ has the probability of $95\\%$.\n",
        "\n",
        "Technically, other bounds would work as well (for instance $2\\%$ and $97\\%$), but humans like to be symetric. \n",
        "\n",
        "At this point mathematicians would once again whip out their integrals (they are a really powerful tool. Even though they are out of scope of this course, make sure to learn it when you can!) but we can reason in terms of computation.\n",
        "\n",
        "How to calculate $\\mathbb{P}(Y \\leq k)$? Say we have a lot of samples - 100 looks like a good number - from our distribution of $Y$. And from those samples, only 10 are less than 3.2. What is your best estimate for $\\mathbb{P}(Y \\leq 3.2)$? \n",
        "\n",
        "From basic probability definition, it is the number of outcomes that satisfy your condition over all outcomes. In our case,  $\\mathbb{P}(Y \\leq 3.2) \\approx \\frac{10}{100} = 10\\%$. By this reasoning, we can see that it is enough to addup $Y$ samples in order and once the probability ticks up above $2.5\\%$ (or other value of interest) stop. More formally,\n",
        "\n",
        "$$\\mathbb{P}(X \\leq k) \\approx \\Sigma^n_{i=0}1_{x_i \\leq k}$$\n",
        "\n",
        "Let's illustrate this by finding a $95\\%$ confidence interval for previous distribution - $Beta(2,5)$ "
      ]
    },
    {
      "cell_type": "code",
      "metadata": {
        "id": "dYBuzUx801pw",
        "colab_type": "code",
        "colab": {
          "base_uri": "https://localhost:8080/",
          "height": 282
        },
        "outputId": "33c04f53-74a2-44ad-84d5-3e1c602f1ad4"
      },
      "source": [
        "# We will use samples we drawn before, first step is to sort them\n",
        "smp_sorted = np.sort(samples)\n",
        "\n",
        "# Find P(Y <= lo) = 2.5%\n",
        "lo = smp_sorted[0]\n",
        "n = 1\n",
        "m = len(smp_sorted)\n",
        "\n",
        "while True: #repeat until I say to stop\n",
        "  # is current probability enough?\n",
        "  if n/m >= 0.025:\n",
        "    break #stop!\n",
        "  # otherwise add another sample and increase the bound\n",
        "  n+=1\n",
        "  lo = smp_sorted[n - 1] \n",
        "\n",
        "# Find P(Y <= hi) = 97.5%\n",
        "hi = smp_sorted[0]\n",
        "n = 1\n",
        "m = len(smp_sorted)\n",
        "\n",
        "while True: #repeat until I say to stop\n",
        "  # is current probability enough?\n",
        "  if n/m >= 0.975:\n",
        "    break #stop!\n",
        "  # otherwise check another sample\n",
        "  n+=1\n",
        "  hi = smp_sorted[n - 1]\n",
        "\n",
        "# Print the interval we have found:\n",
        "print(\"95% confidence interval : [\",lo, \";\", hi,\"]\")\n",
        "\n",
        "# Illustrate\n",
        "\n",
        "fig, ax = plt.subplots(1, 1)\n",
        "a, b = 2, 5 # Parameters of the distribution\n",
        "Beta = scipy.stats.beta.pdf\n",
        "x = np.linspace(0, 1, 100)\n",
        "ax.plot(x,Beta(x,a,b))\n",
        "ax.axvline(lo, color=\"orange\")\n",
        "ax.axvline(hi, color=\"orange\")\n",
        "plt.show()"
      ],
      "execution_count": null,
      "outputs": [
        {
          "output_type": "stream",
          "text": [
            "95% confidence interval : [ 0.04693253801822632 ; 0.6496290689484373 ]\n"
          ],
          "name": "stdout"
        },
        {
          "output_type": "display_data",
          "data": {
            "image/png": "[encoded data removed]",
            "text/plain": [
              "<Figure size 432x288 with 1 Axes>"
            ]
          },
          "metadata": {
            "tags": [],
            "needs_background": "light"
          }
        }
      ]
    },
    {
      "cell_type": "markdown",
      "metadata": {
        "id": "tH1O8ljN3G87",
        "colab_type": "text"
      },
      "source": [
        "So 95% of the time you draw a sample from this distribution, the sample will lie between the two orange lines - neat!\n",
        "\n",
        "It is useful to see how to find confidence intervals using loop, but of course there is a `numpy` library for that. So next time you can just write this code snippet: "
      ]
    },
    {
      "cell_type": "code",
      "metadata": {
        "id": "1oiWz50NOM-n",
        "colab_type": "code",
        "colab": {
          "base_uri": "https://localhost:8080/",
          "height": 34
        },
        "outputId": "d234c6b5-078d-4f2d-d68d-b6bb53c8bff8"
      },
      "source": [
        "lo, hi = np.quantile(samples, [0.025, 0.975])\n",
        "print(\"95% confidence interval : [\",lo, \";\", hi,\"]\")"
      ],
      "execution_count": null,
      "outputs": [
        {
          "output_type": "stream",
          "text": [
            "95% confidence interval : [ 0.04698340909478871 ; 0.6496440822458642 ]\n"
          ],
          "name": "stdout"
        }
      ]
    },
    {
      "cell_type": "markdown",
      "metadata": {
        "id": "eohoh67COR-_",
        "colab_type": "text"
      },
      "source": [
        "**Exercise 3.1** Repeat a similar analysis for $Beta(0.5, 0.5)$ distribution. That is - find its expected value and $95\\%$ confidence interval. Plot the distribution and 3 vertical lines - two for the confidence interval and one for the expected value. Do the numbers look reasonable?"
      ]
    },
    {
      "cell_type": "markdown",
      "metadata": {
        "id": "uq_uQ8W56QbR",
        "colab_type": "text"
      },
      "source": [
        "## Bayesian analysis\n",
        "\n",
        "Now we know how to generate some interesting numbers from a probability distribution, so we can turn to and analyse the distribution that Bayesian analysis gives us.\n",
        "\n",
        "We will introduce this type of analysis using similar coin flip experiment that we have seen in the introduction. Let's say that we toss a coin 10 times and 3 times it has turned up tails. This is a bit different from what you have used before, as the data is only one value, but this just means that we have less things to sum/multiply together. So let's initialise the data:"
      ]
    },
    {
      "cell_type": "code",
      "metadata": {
        "id": "DfXywVa0fKLR",
        "colab_type": "code",
        "colab": {}
      },
      "source": [
        "# Total number of coin flips\n",
        "n = 10\n",
        "# Number of tails\n",
        "x = 3"
      ],
      "execution_count": null,
      "outputs": []
    },
    {
      "cell_type": "markdown",
      "metadata": {
        "id": "7Eh_aL0LgFH3",
        "colab_type": "text"
      },
      "source": [
        "### First step\n",
        "The first step is to figure out the parameters (which are now random variables) of your experiment - $\\Lambda$ and come up with a probability distribution for them - $Pr_{\\Lambda}(\\lambda)$.\n",
        "\n",
        "This distribution is called a *prior* and you can think about it as what do we know about the parameter *prior* to starting the experiment.\n",
        "\n",
        "The goal of the analysis is to get probability distribution for parameters $\\Lambda$ conditional on the experimental results we obtained. That is, we will find:\n",
        "\n",
        "$$Pr_\\Lambda(\\lambda| X=x)$$\n",
        "\n",
        "This distribution is called *posterior* and the random variable $X$ has been set to the observed data.\n",
        "\n",
        "In our case, the parameter is $P$ - the probability that the coin lands tails up. For a fair coin $p = \\frac{1}{2}$.\n",
        "\n",
        "Coming up with the prior distribution is the art of such analysis - i.e. learnable with a lot of experience. In our case, we can start thinking from the range of values $p$ can be. It is possible to make a coin that always lands head or tails (just place the desired picture on both sides) and basically everything in between is possible to the best of our physics knowledge. So a particularly nasty experimenter could obtain any of these coins with equal likelihood to trick us. We can thus use Uniform distribution over the range $[0;1]$ as our prior belief about $P$. \n",
        "\n",
        "Or we might reason, that fair coins (or coins close to them) are much more abundant in the world, and the experimenter might thus pick fairer coins with higher likelihood. So the *prior* distribution could be something like $Beta(2,2)$. Here is how it looks like:"
      ]
    },
    {
      "cell_type": "code",
      "metadata": {
        "id": "gzYRNzo7jfUN",
        "colab_type": "code",
        "colab": {
          "base_uri": "https://localhost:8080/",
          "height": 265
        },
        "outputId": "0a41a147-9943-437a-b6c0-33545ed2bf31"
      },
      "source": [
        "fig, ax = plt.subplots(1, 1)\n",
        "a, b = 2, 2 # Parameters of the distribution\n",
        "Beta = scipy.stats.beta.pdf\n",
        "x = np.linspace(0, 1, 100)\n",
        "ax.plot(x,Beta(x,a,b))\n",
        "plt.show()"
      ],
      "execution_count": null,
      "outputs": [
        {
          "output_type": "display_data",
          "data": {
            "image/png": "[encoded data removed]",
            "text/plain": [
              "<Figure size 432x288 with 1 Axes>"
            ]
          },
          "metadata": {
            "tags": [],
            "needs_background": "light"
          }
        }
      ]
    },
    {
      "cell_type": "markdown",
      "metadata": {
        "id": "Y1OOCTfukqWj",
        "colab_type": "text"
      },
      "source": [
        "For now let's work with Uniform(0,1) distribution.\n",
        "\n",
        "So $Pr_P(p)=1_{p \\in [0;1]}$. This means, that probability density is 1 whenever p is in the interval $[0;1]$, otherwise it is 0."
      ]
    },
    {
      "cell_type": "markdown",
      "metadata": {
        "id": "cp2Mgc44ApY1",
        "colab_type": "text"
      },
      "source": [
        "### Second step\n",
        "\n",
        "How to bridge the gap between $Pr_\\Lambda(\\lambda|X=x)$ and $Pr_\\Lambda(\\lambda)$? Bayes rule comes to help us (yes, it works just fine for continous variables!):\n",
        "\n",
        "$$Pr_\\Lambda(\\lambda|X=x) = \\frac{Pr_X(X=x|\\lambda)\\times Pr_\\Lambda(\\lambda)}{Pr_X(x)}$$\n",
        "\n",
        "Since $x$ has been set for us, the denominator is just some constant that normalises the probability distribution (\"makes it sum to one\"), so we can write that down explicitly as $\\kappa$. As we will see later, we can make all the constants cancel out and we will not have to actually calculate it. The expression now becomes:\n",
        "\n",
        "$$Pr_\\Lambda(\\lambda|X=x) = \\kappa Pr_X(X=x|\\lambda)\\times Pr_\\Lambda(\\lambda)$$\n",
        "\n",
        "We have seen how to calculate $Pr_X(X=x|\\lambda)$ in the previous notebook! So we will have everything that we need to get the posterior distribution.\n",
        "\n",
        "In our example, we use binomial distribution for $X$, its probability mass function:\n",
        "\n",
        "$$Pr_X(X=x|p) = {n \\choose x} p^x(1-p)^{n-x}$$\n",
        "\n",
        "Where $n=10$, $x=3$. ${n \\choose x}$ is another constant that we will aggregate into $\\kappa$. So we express our posterior as:\n",
        "\n",
        "$$Pr_P(p|X=x) = \\kappa p^x(1-p)^{n-x}\\times Pr_P(p)$$"
      ]
    },
    {
      "cell_type": "markdown",
      "metadata": {
        "id": "FD_xXAKcEbRg",
        "colab_type": "text"
      },
      "source": [
        "### Third step\n",
        "\n",
        "Now we can start thinking about computation. \n",
        "\n",
        "It is important to understand that samples from the prior distribution are in a way samples of the posterior distribution - the random variable in question is the same. However sample \"frequency\" needs to be changed. Bayes step suggests how we need to further *weight* the samples to transform their distribution into the desired one. The weight we will use for each sample is:\n",
        "\n",
        "$$w_j = \\frac{\\kappa Pr_X(X=x|\\lambda_j)}{\\Sigma^n_i\\kappa Pr_X(X=x|\\lambda_i)}$$\n",
        "\n",
        "The sum at the bottom comes from the idea that the probabilities need to sum to one. Exact derivation involves some integration and thinking more about what we are doing. Do come up to me if you have questions about it!\n",
        "\n",
        "We can now factor out the $\\kappa$ in the denominator and simplify the expression.\n",
        "\n",
        "$$w_j = \\frac{\\kappa Pr_X(X=x|\\lambda_j)}{\\kappa\\Sigma^n_i Pr_X(X=x|\\lambda_i)}= \\frac{Pr_X(X=x|\\lambda_j)}{\\Sigma^n_i Pr_X(X=x|\\lambda_i)}$$\n",
        "\n",
        "How do we use the weights to get useful statistics? Remember previously we said that for a variable $X$ with distribution $Pr_X(x)$, we can get expected value with:\n",
        "$$E[X] \\approx \\frac{1}{n}\\Sigma^n_{i=1}x_i$$\n",
        "\n",
        "Now for a variable $\\Lambda$ conditional on $X=x$ with conditional probability $Pr_\\Lambda(\\lambda|X=x)$, we use the weights to account for how less or more likely a sample from $Pr_\\Lambda(\\lambda)$ actually should have been. The expression for expected value is:\n",
        "\n",
        "$$E[\\Lambda | X=x] = \\frac{1}{n}\\Sigma^n_{i=1}\\lambda_iw_i$$\n",
        "\n",
        "If you think back to the expression we got for $Pr_\\Lambda(\\lambda|X=x)$, that is: \n",
        "\n",
        "$$Pr_\\Lambda(\\lambda|X=x) \\approx \\kappa Pr_X(X=x|\\lambda)\\times Pr_\\Lambda(\\lambda)$$\n",
        "\n",
        "You can think that $\\frac{1}{n}\\Sigma^n_{i=1}\\lambda_i$ term in expected value expression accounts for $Pr_\\Lambda(\\lambda)$ and $w_i$ term accounts for $\\kappa Pr_X(X=x|\\lambda)$. This is not a formal argument, but I hope it can give you the right intuition!\n",
        "\n",
        "For confidence interval we use weights in the same manner:\n",
        "\n",
        "$$\\mathbb{P}(X \\leq k) \\approx \\Sigma^n_{i=0}1_{x_i \\leq k}w_i$$\n",
        "\n",
        "Whew! That was a lot to go through, but you will see that all this work makes our analysis very short! Lets finish up analysing the coin flip example."
      ]
    },
    {
      "cell_type": "code",
      "metadata": {
        "id": "0FWkOg314Ukt",
        "colab_type": "code",
        "colab": {
          "base_uri": "https://localhost:8080/",
          "height": 298
        },
        "outputId": "8b671c2a-1e18-4c4d-cb04-9ac57a11e704"
      },
      "source": [
        "# Get a bunch of p samples from uniform distribution\n",
        "# Note - it is very convenient to work with numpy arrays here\n",
        "p_samples = np.random.uniform(size=100000)\n",
        "\n",
        "# Calculate the weights\n",
        "prx = p_samples**x*(1-p_samples)**(n-x)\n",
        "w = prx/(np.sum(prx))\n",
        "\n",
        "# Calculate the expected value\n",
        "e = np.sum(w*p_samples)\n",
        "\n",
        "print(\"Expected value:\",e)\n",
        "\n",
        "# Sort all weights:\n",
        "i = np.argsort(w)\n",
        "w = w[i]\n",
        "p_samples = p_samples[i]\n",
        "# Another way to find interval bounds using weights through library functions:\n",
        "F = np.cumsum(w)\n",
        "lo, hi = p_samples[F<0.025][-1], p_samples[F>0.0975][0]\n",
        "\n",
        "print(\"95% confidence interval: [\",lo,\";\", hi,\"]\")\n",
        "\n",
        "# Plot the conditional distribution using the weights.\n",
        "fig, ax = plt.subplots(1, 1)\n",
        "ax.hist(p_samples, weights=w, bins=np.linspace(0,1,30))\n",
        "ax.axvline(e, color=\"red\")\n",
        "ax.axvline(lo, color=\"orange\")\n",
        "ax.axvline(hi, color=\"orange\")\n",
        "plt.show()\n"
      ],
      "execution_count": null,
      "outputs": [
        {
          "output_type": "stream",
          "text": [
            "Expected value: 0.3333657608237303\n",
            "95% confidence interval: [ 0.0750236623080417 ; 0.5436394569493395 ]\n"
          ],
          "name": "stdout"
        },
        {
          "output_type": "display_data",
          "data": {
            "image/png": "[encoded data removed]",
            "text/plain": [
              "<Figure size 432x288 with 1 Axes>"
            ]
          },
          "metadata": {
            "tags": [],
            "needs_background": "light"
          }
        }
      ]
    },
    {
      "cell_type": "markdown",
      "metadata": {
        "id": "lsaCUGSvANcg",
        "colab_type": "text"
      },
      "source": [
        "Maybe not surprisingly, but given that 3 out of 10 tosses landed tails, we got that the expected value for $P$ is close to $\\frac{3}{10}$. We would get this value using maximum likelihood estimation from before. But this time we can also observe that our confidence interval includes $0.5$. So the coin could be fair with! Let's see how it changes with more experiments. "
      ]
    },
    {
      "cell_type": "markdown",
      "metadata": {
        "id": "i-vvqjafjMuP",
        "colab_type": "text"
      },
      "source": [
        "**Exercise 3.2** Find the confidence interval for $P$ for the following result: out of 100 tosses 30 landed on tails."
      ]
    },
    {
      "cell_type": "markdown",
      "metadata": {
        "id": "Jb1nNQbfjOvM",
        "colab_type": "text"
      },
      "source": [
        "**Exercise 3.3** Use the same data as in the example ($x=3$, $n=10$) to find and plot the posterior distribution for $P$. But this time use $Beta(2,2)$ as a prior."
      ]
    },
    {
      "cell_type": "markdown",
      "metadata": {
        "id": "PVtD8GALjRZw",
        "colab_type": "text"
      },
      "source": [
        "**Exercise 3.4** A bit harder, requires more thought about $Pr_X(x|p)$! We have a coin as before which might be biased. But this time I do 4 experiments where I toss the coin 10 times. Here is how often the coin turned up tails for each: $x = [4, 1, 2, 5]$. Find a $95\\%$ confidence interval for $P$ and plot the posterior distribution using histograms as in example before. Use a uniform prior distribution for $P$."
      ]
    },
    {
      "cell_type": "markdown",
      "metadata": {
        "id": "x1loieXbC25_",
        "colab_type": "text"
      },
      "source": [
        "## Frequentist analysis\n",
        "\n",
        "Bayesian analysis viewed the parameters behind the data as distributions. Now, we will explore another way to go \"meta\" - frequentism. It considers a multiverse where in each world the data might have turned out a little different than what we observe. The data has some randomness in it, that is why it makes sense to imagine millions of parallel universes with their own datasets. \n",
        "\n",
        "The question we will ask about our data will be: if I were to teleport to another universe (or collect the data again) and calculate the number I am interested in, what is the distribution that it will follow? The number in question can be a simple mean, a maximum likelihood estimate (remember 2nd notebook) for the parameters or any other summary you find useful. Once we have samples of this number we will be able to use techniques we saw before to get the expected value and confidence intervals."
      ]
    },
    {
      "cell_type": "markdown",
      "metadata": {
        "id": "dgBN4oQVKTG8",
        "colab_type": "text"
      },
      "source": [
        "### Generating alternative datasets\n",
        "\n",
        "There are two ways to generate a new data set given the one we see in our universe. I will call the dataset we observe $\\vec{X} = (x_1, x_2, ..., x_n)$.\n",
        "\n",
        "**Non-Parametric resampling**\n",
        "\n",
        "The simplest way to generate a new data set is to imagine putting values of $\\vec{X}$ in a box and randomly pull out one at a time with replacement until you gather $n$ values.\n",
        "\n",
        "Let's see how to use it in the coin example we saw before.\n",
        "\n",
        "I toss $n=10$ coins and get $x=3$ tails. My estimate for the probability of tails is thus $\\frac{x}{n} = 0.3$. I want to find a $95\\%$ confidence interval using non-parametric resampling. \n",
        "\n",
        "This example my sound tricky at first as it seem that we do not have a vector of data. That is, what is the use of always drawing $x = 3$. But we can view the data in a more useful way - as a vector of coin flip results. \n",
        "\n",
        "$$\\vec{X} = [H, T, H, H, H, T, T, H, H, H]$$\n",
        "\n",
        "And we can take 10 samples from this dataset and calculate $x$ - the count of tails."
      ]
    },
    {
      "cell_type": "code",
      "metadata": {
        "id": "KsoBiEKqOhLt",
        "colab_type": "code",
        "colab": {
          "base_uri": "https://localhost:8080/",
          "height": 299
        },
        "outputId": "296c824d-b1be-44cf-b4b5-13a72a0e025b"
      },
      "source": [
        "X = ['H', 'T', 'H', 'H', 'H', 'T', 'T', 'H', 'H', 'H']\n",
        "\n",
        "# Define a function to quickly get the number we want\n",
        "def get_p(X):\n",
        "  x = 0\n",
        "  for i in X:\n",
        "    if i == 'T':\n",
        "      x += 1\n",
        "  return x/len(X)\n",
        "\n",
        "# Check it\n",
        "print(get_p(X))\n",
        "\n",
        "# Define a function to generate a sample\n",
        "def resample(X):\n",
        "  return np.random.choice(X, size=len(X), replace=True)\n",
        "\n",
        "# Generate samples for x\n",
        "\n",
        "p_samples = [get_p(resample(X)) for _ in range(10000)]\n",
        "lo, hi = np.quantile(p_samples, [0.025, 0.975])\n",
        "print(\"95% confidence interval : [\",lo, \";\", hi,\"]\")\n",
        "\n",
        "\n",
        "# Illustrate\n",
        "p, c = np.unique(np.array(p_samples), return_counts=True)\n",
        "fig, ax = plt.subplots(1, 1)\n",
        "ax.bar(p, c, width=0.08)\n",
        "ax.axvline(lo, color=\"orange\")\n",
        "ax.axvline(hi, color=\"orange\")\n",
        "plt.show()"
      ],
      "execution_count": null,
      "outputs": [
        {
          "output_type": "stream",
          "text": [
            "0.3\n",
            "95% confidence interval : [ 0.0 ; 0.6 ]\n"
          ],
          "name": "stdout"
        },
        {
          "output_type": "display_data",
          "data": {
            "image/png": "[encoded data removed]",
            "text/plain": [
              "<Figure size 432x288 with 1 Axes>"
            ]
          },
          "metadata": {
            "tags": [],
            "needs_background": "light"
          }
        }
      ]
    },
    {
      "cell_type": "markdown",
      "metadata": {
        "id": "doXve0KRRT5M",
        "colab_type": "text"
      },
      "source": [
        "Compared with Bayesian analysis the distribution of parallel values is more discrete. This makes sense, since from this setup our values of p can be $0, 0.1, ..., 0.9, 1$. We still get a similar result, that the coin we are tossing could be fair!"
      ]
    },
    {
      "cell_type": "markdown",
      "metadata": {
        "id": "s0og7vuPR70J",
        "colab_type": "text"
      },
      "source": [
        "**Exercise 3.5** Repeat the analysis for another set of data: out of 100 tosses 30 land tails. To get a lot of samples for the number of tails flipped out of 100 tosses, you can use the following snippet (that is you do not need to write out one hundred element array $\\vec{X}$):"
      ]
    },
    {
      "cell_type": "code",
      "metadata": {
        "id": "_t1vER8KSPxY",
        "colab_type": "code",
        "colab": {
          "base_uri": "https://localhost:8080/",
          "height": 34
        },
        "outputId": "d62b7009-e4ef-40d8-de40-e371cbb15c5d"
      },
      "source": [
        "np.random.binomial(n = 100, p = 30/100, size = 100000)"
      ],
      "execution_count": null,
      "outputs": [
        {
          "output_type": "execute_result",
          "data": {
            "text/plain": [
              "array([30, 29, 30, ..., 29, 34, 27])"
            ]
          },
          "metadata": {
            "tags": []
          },
          "execution_count": 22
        }
      ]
    },
    {
      "cell_type": "markdown",
      "metadata": {
        "id": "86mUG1oLUesk",
        "colab_type": "text"
      },
      "source": [
        "**Parametric resampling**\n",
        "\n",
        "This way to resample data firstly fits a probability model to the data $Pr(\\vec{X}|\\lambda)$ and estimates the parameters (remember last notebook!). Then it uses the estimated parameters to generate a new dataset of the same length. \n",
        "\n",
        "In exercise **3.5** you were getting into prametric resampling teritory as $p=\\frac{30}{100}$ is a maximum likelihood estimate. Actually, with parametric resampling you would get the same results for the coin example as with non-parametric one. So lets use another example. \n",
        "\n",
        "Let's use the email example we saw in the second notebook. As a reminder, here is a data set of the number of emails I got per day:"
      ]
    },
    {
      "cell_type": "code",
      "metadata": {
        "id": "-4JnxiKWVu-i",
        "colab_type": "code",
        "colab": {}
      },
      "source": [
        "X = [5, 6, 10, 2, 7, 3, 1, 1, 2, 1]"
      ],
      "execution_count": null,
      "outputs": []
    },
    {
      "cell_type": "markdown",
      "metadata": {
        "id": "XAZr12MHVv3n",
        "colab_type": "text"
      },
      "source": [
        "This time a summary statistics we will explore is the mean number of emails per day:"
      ]
    },
    {
      "cell_type": "code",
      "metadata": {
        "id": "T7Z69kZsV81e",
        "colab_type": "code",
        "colab": {
          "base_uri": "https://localhost:8080/",
          "height": 34
        },
        "outputId": "476d9202-8cde-4956-daf9-94fb715b42d1"
      },
      "source": [
        "# The maximum likelihood estimator for lambda we got previously (rounded)\n",
        "l = 3.7998\n",
        "\n",
        "# Generate a new sample using lambda\n",
        "def resample(l, X):\n",
        "  return np.random.poisson(lam = l, size = len(X))\n",
        "\n",
        "mean_samples = [np.mean(resample(l, X)) for _ in range(10000)]\n",
        "\n",
        "lo, hi = np.quantile(mean_samples, [0.025, 0.975])\n",
        "print(\"95% confidence interval : [\",lo, \";\", hi,\"]\")"
      ],
      "execution_count": null,
      "outputs": [
        {
          "output_type": "stream",
          "text": [
            "95% confidence interval : [ 2.6 ; 5.1 ]\n"
          ],
          "name": "stdout"
        }
      ]
    },
    {
      "cell_type": "markdown",
      "metadata": {
        "id": "ibUXeBiqbC6F",
        "colab_type": "text"
      },
      "source": [
        "That is basically all there is to frequentist analysis! It is quite a painless way to generate inferences from datasets. Use it when you know little about the the prior distribution or doubts about what model to fit. It provides a great first step to uncover some interesting trends and to spur your investigation further. "
      ]
    },
    {
      "cell_type": "markdown",
      "metadata": {
        "id": "o_nJNOkTc5Da",
        "colab_type": "text"
      },
      "source": [
        "**Exercise 3.6** Measuring difference.\n",
        "\n",
        "You have two a little bit different versions of your killer app. You show version A to $n=6$ people and measure how much time they spent to do a particular action. Here are the results: $\\vec{X} = [7.2, 7.3, 7.8, 8.2, 8.8, 9.5]$. You show version B to $m=3$ people and repeat the measurements to get $\\vec{Y} = [8.3, 8.5, 9.2]$. You assume that both of these measurements come from Normal distributions with the same variation but different means. I.e. $X \\sim Normal(m_x, s^2)$ and $Y \\sim Normal(m_y, s^2)$. You care about the question is system A significantly better than system B? To answer that you will need to find a $95\\%$ confidence interval for difference of means $d = m_y - m_x$. If the interval includes 0, then the means are not significantly different!\n",
        "\n",
        "a) Use non-parametric resampling to answer this question.\n",
        "\n",
        "1.   Write a function that generates a sample for $\\vec{X}$ and $\\vec{Y}$.\n",
        "2.   Write a function that calculates $d$ based on the two samples.\n",
        "3.   Find confidence interval for $d$\n",
        "\n",
        "b) Use parametric resampling to find confidence interval.\n",
        "\n",
        "1.  The maximum likelihood estimate for $m_x$ and $m_y$ is the mean of the respective dataset, the maximum likelihood estimate for variation is:\n",
        "$$s^2 = \\frac{1}{n+m}(\\Sigma^n_{i=1}(x_i-m_x) ^2 + \\Sigma^m_{i=1}(y_i-m_y)^2) $$\n",
        "2. Write a function that generates samples using these maximum likelihood estimates. Use `np.random.normal`. \n",
        "2.   Write a function that calculates $d$ based on the two samples.\n",
        "3.   Find confidence interval for $d$\n",
        "\n",
        "\n"
      ]
    }
  ]
}